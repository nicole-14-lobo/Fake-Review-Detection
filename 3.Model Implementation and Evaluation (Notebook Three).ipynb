{
 "cells": [
  {
   "cell_type": "markdown",
   "metadata": {},
   "source": [
    "# MODEL IMPLEMENTATION AND EVALUATION\n",
    "\n",
    "This is the stage where the three models are built, optimized and evaluated.\n",
    "\n",
    "Models used: `` Multinominal Naive Bayes`` , ``Support Vector Machine``, ``Logistic Regression``\n",
    "\n",
    "Evaluation methods used: ``accuracy, precision, recall, f1_score`` and ``confusion matrix``\n",
    "\n",
    "## Summary\n",
    "\n",
    "After appropriate evaluation, LR with count vectorizer has been deemed the best. The rest of the models has all worked above 80% accuracy, with the other metrics working out above 79%. "
   ]
  },
  {
   "cell_type": "code",
   "execution_count": 28,
   "metadata": {},
   "outputs": [],
   "source": [
    "#LIBRARIES \n",
    "import pandas as pd\n",
    "import nltk\n",
    "from nltk.corpus import stopwords\n",
    "import sklearn\n",
    "from sklearn.model_selection import train_test_split\n",
    "from sklearn.feature_extraction.text import CountVectorizer, TfidfVectorizer\n",
    "from sklearn.naive_bayes import MultinomialNB\n",
    "from sklearn.svm import SVC \n",
    "from sklearn.linear_model import LogisticRegression\n",
    "from sklearn.metrics import accuracy_score, precision_score, recall_score, f1_score\n",
    "from sklearn.metrics import confusion_matrix, ConfusionMatrixDisplay, plot_confusion_matrix\n",
    "import pickle\n",
    "import warnings\n",
    "warnings.simplefilter(\"ignore\")"
   ]
  },
  {
   "cell_type": "code",
   "execution_count": 29,
   "metadata": {},
   "outputs": [],
   "source": [
    "#lOADING DATASETS \n",
    "df = pd.read_csv(r\"C:\\Users\\Kamakshi\\cleaned_data.csv\",encoding=\"latin1\") #due to special charas should be encoded as latin 1\n",
    "\n",
    "toCheck = pd.read_csv(r\"C:\\Users\\Kamakshi\\updated_data.csv\",encoding=\"latin1\")\n",
    "#REMOVE MAX\n",
    "pd.set_option('display.max_columns', None)\n",
    "pd.set_option('display.max_rows', None)\n",
    "\n",
    "#DROP EXTRA COLUMNS\n",
    "df.drop(['Unnamed: 0'], axis=1, inplace=True)\n",
    "toCheck.drop(['Unnamed: 0'], axis=1, inplace=True)"
   ]
  },
  {
   "cell_type": "markdown",
   "metadata": {},
   "source": [
    "# DOUBLE-CHECKING...\n",
    "\n",
    "Double checking if there are any NULL values within the dataset. This would cause issues later on if there are as such."
   ]
  },
  {
   "cell_type": "code",
   "execution_count": 30,
   "metadata": {},
   "outputs": [
    {
     "data": {
      "text/html": [
       "<div>\n",
       "<style scoped>\n",
       "    .dataframe tbody tr th:only-of-type {\n",
       "        vertical-align: middle;\n",
       "    }\n",
       "\n",
       "    .dataframe tbody tr th {\n",
       "        vertical-align: top;\n",
       "    }\n",
       "\n",
       "    .dataframe thead th {\n",
       "        text-align: right;\n",
       "    }\n",
       "</style>\n",
       "<table border=\"1\" class=\"dataframe\">\n",
       "  <thead>\n",
       "    <tr style=\"text-align: right;\">\n",
       "      <th></th>\n",
       "      <th>review_text</th>\n",
       "      <th>verified_purchase</th>\n",
       "    </tr>\n",
       "  </thead>\n",
       "  <tbody>\n",
       "    <tr>\n",
       "      <th>191</th>\n",
       "      <td>NaN</td>\n",
       "      <td>True</td>\n",
       "    </tr>\n",
       "    <tr>\n",
       "      <th>523</th>\n",
       "      <td>NaN</td>\n",
       "      <td>True</td>\n",
       "    </tr>\n",
       "    <tr>\n",
       "      <th>1072</th>\n",
       "      <td>NaN</td>\n",
       "      <td>True</td>\n",
       "    </tr>\n",
       "    <tr>\n",
       "      <th>1111</th>\n",
       "      <td>NaN</td>\n",
       "      <td>True</td>\n",
       "    </tr>\n",
       "    <tr>\n",
       "      <th>1230</th>\n",
       "      <td>NaN</td>\n",
       "      <td>True</td>\n",
       "    </tr>\n",
       "    <tr>\n",
       "      <th>1316</th>\n",
       "      <td>NaN</td>\n",
       "      <td>True</td>\n",
       "    </tr>\n",
       "  </tbody>\n",
       "</table>\n",
       "</div>"
      ],
      "text/plain": [
       "     review_text  verified_purchase\n",
       "191          NaN               True\n",
       "523          NaN               True\n",
       "1072         NaN               True\n",
       "1111         NaN               True\n",
       "1230         NaN               True\n",
       "1316         NaN               True"
      ]
     },
     "execution_count": 30,
     "metadata": {},
     "output_type": "execute_result"
    }
   ],
   "source": [
    "#CHECKING WHICH ROW IS NULL FROM PRE-PROCESSING\n",
    "checkNULL = df.isnull()\n",
    "checkNULL = checkNULL.any(axis=1)\n",
    "df[checkNULL]"
   ]
  },
  {
   "cell_type": "code",
   "execution_count": 31,
   "metadata": {},
   "outputs": [],
   "source": [
    "toCheck = toCheck.drop_duplicates().reset_index(drop=True)"
   ]
  },
  {
   "cell_type": "code",
   "execution_count": 32,
   "metadata": {},
   "outputs": [
    {
     "data": {
      "text/html": [
       "<div>\n",
       "<style scoped>\n",
       "    .dataframe tbody tr th:only-of-type {\n",
       "        vertical-align: middle;\n",
       "    }\n",
       "\n",
       "    .dataframe tbody tr th {\n",
       "        vertical-align: top;\n",
       "    }\n",
       "\n",
       "    .dataframe thead th {\n",
       "        text-align: right;\n",
       "    }\n",
       "</style>\n",
       "<table border=\"1\" class=\"dataframe\">\n",
       "  <thead>\n",
       "    <tr style=\"text-align: right;\">\n",
       "      <th></th>\n",
       "      <th>review_text</th>\n",
       "      <th>verified_purchase</th>\n",
       "    </tr>\n",
       "  </thead>\n",
       "  <tbody>\n",
       "    <tr>\n",
       "      <th>191</th>\n",
       "      <td>A+</td>\n",
       "      <td>True</td>\n",
       "    </tr>\n",
       "    <tr>\n",
       "      <th>523</th>\n",
       "      <td>5*</td>\n",
       "      <td>True</td>\n",
       "    </tr>\n",
       "    <tr>\n",
       "      <th>1072</th>\n",
       "      <td>very</td>\n",
       "      <td>True</td>\n",
       "    </tr>\n",
       "    <tr>\n",
       "      <th>1111</th>\n",
       "      <td>Does what it should</td>\n",
       "      <td>True</td>\n",
       "    </tr>\n",
       "    <tr>\n",
       "      <th>1230</th>\n",
       "      <td>A+</td>\n",
       "      <td>True</td>\n",
       "    </tr>\n",
       "    <tr>\n",
       "      <th>1316</th>\n",
       "      <td>A*****</td>\n",
       "      <td>True</td>\n",
       "    </tr>\n",
       "  </tbody>\n",
       "</table>\n",
       "</div>"
      ],
      "text/plain": [
       "              review_text  verified_purchase\n",
       "191                    A+               True\n",
       "523                    5*               True\n",
       "1072                 very               True\n",
       "1111  Does what it should               True\n",
       "1230                   A+               True\n",
       "1316               A*****               True"
      ]
     },
     "execution_count": 32,
     "metadata": {},
     "output_type": "execute_result"
    }
   ],
   "source": [
    "toCheck.iloc[[191,523,1072,1111,1230,1316],[3,4]]"
   ]
  },
  {
   "cell_type": "markdown",
   "metadata": {},
   "source": [
    "Checking the old csv file, it can be seen as to why the five rows were totally cleaned out within its review_text. That was because within the text processing stage previously, only words which held meaning were kept, and if we refer to the second table we can see that most of them were either stopwords or had symbols and numbers. Since they don't hold meaning either way, these will be dropped subsequently. "
   ]
  },
  {
   "cell_type": "code",
   "execution_count": 33,
   "metadata": {},
   "outputs": [],
   "source": [
    "#DROP THE NULL ROWS\n",
    "df = df.dropna(how='any',axis=0) "
   ]
  },
  {
   "cell_type": "code",
   "execution_count": 34,
   "metadata": {},
   "outputs": [
    {
     "data": {
      "text/plain": [
       "False    0.525701\n",
       "True     0.474299\n",
       "Name: verified_purchase, dtype: float64"
      ]
     },
     "execution_count": 34,
     "metadata": {},
     "output_type": "execute_result"
    }
   ],
   "source": [
    "#UPDATED VP VALUES \n",
    "df[\"verified_purchase\"].value_counts(normalize=True)"
   ]
  },
  {
   "cell_type": "markdown",
   "metadata": {},
   "source": [
    "The change barely had any affect on the T/F values, and thus we are ready to proceed."
   ]
  },
  {
   "cell_type": "markdown",
   "metadata": {},
   "source": [
    "# MODELING\n",
    "\n",
    "Within the dataset, there are currently only two columns. Out of the two, review_text is going to be assigned as the input variable, and verified_purchases as the target variable. The data is then going to be split accordingly."
   ]
  },
  {
   "cell_type": "code",
   "execution_count": 35,
   "metadata": {},
   "outputs": [],
   "source": [
    "#ASSIGN THE VARIABLES\n",
    "X = df['review_text'] #input var\n",
    "y = df['verified_purchase'] #target var"
   ]
  },
  {
   "cell_type": "code",
   "execution_count": 36,
   "metadata": {},
   "outputs": [
    {
     "name": "stdout",
     "output_type": "stream",
     "text": [
      "Number of rows:\n",
      "Entire dataset: 1712\n",
      "Train dataset: 1027\n",
      "Test dataset: 685\n"
     ]
    }
   ],
   "source": [
    "#SPLIT DATA\n",
    "X_train, X_test, y_train, y_test = train_test_split(\n",
    "    df['review_text'], df['verified_purchase'],test_size=0.4, random_state=42) #40% gives best results, 42 is no of life...\n",
    "\n",
    "entiredf = format(df.shape[0])\n",
    "traindf = format(X_train.shape[0])\n",
    "testdf = format(X_test.shape[0])\n",
    "\n",
    "print('Number of rows:')\n",
    "print('Entire dataset:', entiredf)\n",
    "print('Train dataset:', traindf)\n",
    "print('Test dataset:',testdf)"
   ]
  },
  {
   "cell_type": "markdown",
   "metadata": {},
   "source": [
    "The data is decided to be split into 60 - 40, which has been determined by trial and error. This splitting produces the highest accuracy for the models, and thus we are going to with that. "
   ]
  },
  {
   "cell_type": "markdown",
   "metadata": {},
   "source": [
    "## COUNT VECTORIZER AND MODELING\n",
    "\n",
    "word vectorization maps words or phrases from a lexicon to a matching vector of real numbers, which may then be used to determine word predictions and semantics, and this is done due to the fact that models only understand numerical data.\n",
    "\n",
    "We are going to be utlizing two of the vectorization methods, the first one being count vectorizer. We just count the number of times a word appears in the document in CountVectorizer, which results in a bias in favor of the most common terms."
   ]
  },
  {
   "cell_type": "code",
   "execution_count": 37,
   "metadata": {},
   "outputs": [
    {
     "name": "stdout",
     "output_type": "stream",
     "text": [
      "\n",
      "Vocabulary: \n",
      " {'current': 413, 'sell': 1498, 'price': 1310, 'compar': 341, 'supermarket': 1705, 'good': 760, 'smell': 1563, 'pleasant': 1270, 'need': 1134, 'add': 14, 'small': 1558, 'cloth': 319, 'fresh': 700, 'great': 776, 'moisturis': 1100, 'sensit': 1502, 'love': 1009, 'pour': 1293, 'smaller': 1559, 'bottl': 193, 'make': 1032, 'manag': 1036, 'beat': 136, 'decent': 432, 'fabric': 614, 'soften': 1580, 'nice': 1142, 'fragranc': 695, 'purchas': 1334, 'deliveri': 456, 'cream': 397, 'handwash': 801, 'cheaper': 281, 'hand': 798, 'better': 154, 'liquid': 988, 'oh': 1174, 'wing': 1917, 'dove': 514, 'kitchen': 940, 'bathroom': 131, 'shower': 1527, 'room': 1436, 'recommend': 1378, 'highli': 830, 'star': 1636, 'simpl': 1537, 'gel': 727, 'like': 977, 'glue': 753, 'hard': 805, 'rub': 1444, 'slip': 1555, 'bath': 130, 'goe': 756, 'smoothli': 1569, 'easili': 539, 'wast': 1885, 'leav': 964, 'feel': 643, 'silki': 1535, 'soft': 1579, 'scenti': 1477, 'review': 1419, 'collect': 326, 'promot': 1322, 'excel': 589, 'everi': 580, 'day': 426, 'facial': 617, 'wash': 1882, 'excess': 591, 'face': 616, 'strip': 1669, 'natur': 1127, 'oil': 1175, 'care': 256, 'routin': 1442, 'morn': 1108, 'night': 1144, 'clean': 308, 'brilliant': 213, 'offer': 1172, 'gorgeou': 762, 'amaz': 52, 'valu': 1848, 'girli': 739, 'hair': 794, 'buy': 235, 'chang': 276, 'preserv': 1304, 'come': 331, 'bad': 109, 'sore': 1599, 'rash': 1354, 'eye': 608, 'burn': 230, 'lip': 987, 'tingl': 1775, 'phone': 1255, 'told': 1785, 'stuff': 1677, 'ask': 92, 'said': 1454, 'know': 943, 'want': 1878, 'reason': 1368, 'mayb': 1056, 'save': 1468, 'money': 1103, 'ingredi': 897, 'nearli': 1130, 'year': 1950, 'sinc': 1541, 'nivea': 1147, 'sold': 1583, 'compani': 339, 'german': 733, 'im': 872, 'realli': 1366, 'angri': 56, 'suppos': 1708, 'ok': 1177, 'rubbish': 1446, 'burnt': 231, 'pleas': 1269, 'usual': 1846, 'stock': 1651, 'fulli': 713, 'asda': 90, 'gave': 726, 'refund': 1386, 'gift': 735, 'card': 253, 'receipt': 1371, 'pocket': 1277, 'condition': 355, 'normal': 1151, 'oili': 1176, 'week': 1896, 'saw': 1470, 'differ': 480, 'felt': 646, 'cleans': 310, 'clearer': 313, 'notic': 1156, 'straightaway': 1659, 'red': 1381, 'blemish': 169, 'previou': 1308, 'kid': 936, 'doesnt': 505, 'irrit': 914, 'scent': 1476, 'littl': 993, 'bit': 162, 'long': 999, 'way': 1892, 'similar': 1536, 'perfect': 1236, 'got': 764, 'coupl': 390, 'ago': 32, 'refresh': 1385, 'bodi': 181, 'smooth': 1567, 'cucumb': 408, 'relax': 1393, 'best': 153, 'came': 243, 'separ': 1504, 'packet': 1208, 'sealabl': 1491, 'affect': 25, 'rough': 1440, 'dri': 525, 'otherwis': 1193, 'fantast': 631, 'lot': 1007, 'effort': 549, 'reduc': 1382, 'plastic': 1268, 'concentr': 350, 'buyer': 236, 'say': 1471, 'larger': 949, 'probabl': 1316, 'explain': 601, 'label': 945, 'fuchsia': 711, 'perfum': 1239, 'version': 1864, 'overpow': 1203, 'big': 155, 'plu': 1274, 'difficulti': 482, 'intens': 907, 'past': 1226, 'note': 1153, 'outer': 1194, 'sleev': 1550, 'recycl': 1380, 'dispos': 498, 'charg': 279, 'kind': 937, 'overbear': 1199, 'anyon': 66, 'glow': 751, 'afford': 26, 'comfort': 332, 'creation': 400, 'round': 1441, 'market': 1044, 'close': 318, 'match': 1053, 'honeysuckl': 846, 'sandalwood': 1463, 'person': 1246, 'favourit': 638, 'howev': 855, 'descript': 465, 'ad': 13, 'recent': 1373, 'amazon': 55, 'pantri': 1215, 'order': 1189, 'lamin': 946, 'tile': 1771, 'floor': 670, 'subtl': 1685, 'streak': 1662, 'free': 698, 'shine': 1523, 'moistur': 1099, 'essenti': 577, 'tri': 1808, 'time': 1773, 'today': 1781, 'packag': 1207, 'easi': 537, 'open': 1182, 'squeez': 1627, 'releas': 1394, 'puff': 1330, 'froth': 707, 'pure': 1335, 'smear': 1562, 'white': 1908, 'absorb': 4, 'non': 1148, 'greasi': 775, 'appli': 73, 'think': 1759, 'expens': 598, 'cheap': 280, 'qualiti': 1340, 'dairi': 419, 'aroma': 84, 'dont': 508, 'drench': 523, 'lotion': 1008, 'pretti': 1306, 'worth': 1937, 'thank': 1752, 'item': 919, 'describ': 464, 'rapid': 1352, 'stop': 1653, 'static': 1641, 'chocol': 294, 'flavour': 669, 'creami': 398, 'soap': 1576, 'anyth': 67, 'els': 553, 'lather': 954, 'noth': 1154, 'fail': 621, 'protect': 1326, 'gentl': 730, 'basic': 126, 'harm': 806, 'nourish': 1157, 'tasti': 1733, 'beef': 143, 'tomato': 1786, 'grate': 772, 'cheddar': 284, 'chees': 286, 'mix': 1091, 'nd': 1128, 'let': 969, 'sit': 1544, 'minut': 1083, 'regret': 1388, 'set': 1509, 'took': 1791, 'expect': 597, 'size': 1546, 'persil': 1244, 'quit': 1348, 'pictur': 1258, 'mislead': 1087, 'apart': 71, 'cheer': 285, 'makeup': 1034, 'eas': 536, 'micellar': 1074, 'water': 1888, 'left': 965, 'pack': 1206, 'extra': 602, 'impresss': 881, 'content': 368, 'aw': 103, 'cut': 416, 'right': 1427, 'fingernail': 658, 'turn': 1818, 'upsid': 1844, 'approach': 78, 'empti': 558, 'ridicul': 1426, 'design': 466, 'bought': 194, 'lumber': 1016, 'home': 841, 'larg': 948, 'decant': 431, 'exist': 594, 'contain': 367, 'tell': 1740, 'straight': 1658, 'away': 105, 'despit': 469, 'compart': 343, 'machin': 1025, 'towel': 1796, 'unlik': 1835, 'manufactur': 1040, 'healthi': 817, 'definit': 447, 'forese': 684, 'futur': 720, 'gotten': 766, 'result': 1415, 'brillant': 212, 'brand': 201, 'absolut': 3, 'fan': 629, 'wow': 1939, 'factor': 619, 'base': 123, 'commerci': 335, 'help': 825, 'disappoint': 489, 'especi': 576, 'point': 1279, 'ice': 866, 'chunk': 301, 'difficult': 481, 'eat': 540, 'entir': 569, 'tub': 1814, 'nasti': 1126, 'chemic': 287, 'super': 1701, 'famili': 628, 'young': 1956, 'old': 1179, 'friendli': 705, 'mean': 1059, 'colour': 329, 'honestli': 844, 'problemat': 1318, 'prone': 1323, 'dermat': 462, 'tast': 1732, 'weed': 1895, 'vinegar': 1867, 'work': 1932, 'remov': 1403, 'havent': 811, 'hamper': 797, 'christma': 298, 'sure': 1709, 'magnum': 1029, 'incas': 885, 'amazebal': 53, 'togeth': 1782, 'delici': 453, 'superb': 1702, 'kit': 939, 'bio': 159, 'stubborn': 1674, 'stain': 1631, 'word': 1931, 'warn': 1881, 'handl': 800, 'tend': 1743, 'ensur': 566, 'thoroughli': 1763, 'rins': 1428, 'repair': 1405, 'guy': 790, 'fals': 627, 'economi': 543, 'build': 226, 'caus': 261, 'issu': 916, 'huggabl': 858, 'strong': 1671, 'alcohol': 36, 'pot': 1291, 'noodl': 1149, 'student': 1676, 'yuck': 1959, 'addit': 15, 'sauc': 1466, 'pasta': 1227, 'carboard': 250, 'situat': 1545, 'access': 6, 'kettl': 933, 'chose': 297, 'mugshot': 1116, 'mistak': 1089, 'scrumptiou': 1488, 'authent': 99, 'linger': 984, 'bonu': 188, 'percent': 1235, 'fact': 618, 'husband': 862, 'classic': 307, 'lynx': 1024, 'deodor': 459, 'regularli': 1390, 'number': 1160, 'skincar': 1547, 'avoid': 102, 'toner': 1788, 'experi': 599, 'anoth': 62, 'major': 1031, 'extrem': 605, 'flaki': 665, 'sting': 1649, 'dewi': 475, 'look': 1003, 'deffin': 440, 'opinion': 1183, 'reccomend': 1370, 'deal': 429, 'slow': 1556, 'cook': 375, 'beauti': 138, 'tip': 1777, 'mark': 1043, 'alway': 51, 'fresher': 701, 'regular': 1389, 'late': 951, 'overal': 1198, 'improv': 882, 'claim': 304, 'perform': 1238, 'miracl': 1084, 'lol': 997, 'reaction': 1360, 'happen': 802, 'winter': 1919, 'weather': 1894, 'central': 265, 'heat': 819, 'vaselin': 1853, 'dealt': 430, 'includ': 887, 'elbow': 551, 'knee': 941, 'place': 1263, 'glide': 746, 'dream': 522, 'summer': 1695, 'spent': 1614, 'lay': 958, 'beach': 133, 'eyemak': 611, 'men': 1067, 'boot': 190, 'tame': 1726, 'divin': 500, 'iron': 913, 'tear': 1737, 'penni': 1233, 'scale': 1472, 'deliv': 455, 'quickli': 1346, 'shampoo': 1516, 'leak': 963, 'tan': 1727, 'sunb': 1697, 'spray': 1624, 'thought': 1764, 'clear': 312, 'friend': 704, 'huge': 857, 'indoor': 892, 'didnt': 477, 'exxtra': 607, 'fast': 633, 'thankyou': 1753, 'half': 796, 'shop': 1526, 'line': 982, 'fake': 625, 'africa': 28, 'poorer': 1282, 'new': 1138, 'softer': 1581, 'particularli': 1221, 'wrap': 1940, 'storag': 1655, 'measur': 1061, 'touch': 1794, 'brighter': 209, 'cleaner': 309, 'afterward': 29, 'everyon': 583, 'impress': 880, 'neutral': 1137, 'defiantli': 442, 'fab': 613, 'rate': 1356, 'mani': 1038, 'micel': 1073, 'wipe': 1920, 'total': 1793, 'alreadi': 46, 'receiv': 1372, 'feed': 642, 'event': 578, 'absoulut': 5, 'stick': 1646, 'job': 926, 'live': 994, 'hype': 865, 'clearli': 314, 'lead': 961, 'leader': 962, 'inspir': 901, 'confid': 357, 'certainli': 269, 'harsh': 808, 'favorit': 636, 'imposs': 879, 'sourc': 1603, 'check': 283, 'target': 1731, 'piec': 1260, 'crack': 395, 'bare': 119, 'far': 632, 'concern': 352, 'waterproof': 1890, 'mascara': 1048, 'powder': 1295, 'return': 1417, 'paid': 1210, 'daili': 418, 'basi': 125, 'age': 30, 'multipl': 1117, 'bulk': 227, 'door': 509, 'funnel': 717, 'easier': 538, 'section': 1496, 'washer': 1883, 'moreov': 1107, 'thing': 1758, 'exactli': 588, 'someth': 1588, 'odor': 1169, 'blend': 170, 'energis': 563, 'complain': 345, 'lid': 971, 'bin': 158, 'spill': 1618, 'everywher': 586, 'box': 197, 'ml': 1093, 'hope': 847, 'misl': 1086, 'month': 1104, 'start': 1637, 'enjoy': 565, 'mr': 1114, 'hinch': 832, 'glad': 742, 'scratch': 1481, 'scour': 1480, 'pad': 1209, 'minki': 1082, 'spong': 1621, 'oven': 1197, 'hob': 837, 'tap': 1730, 'sink': 1543, 'screen': 1483, 'gleam': 745, 'compact': 338, 'rang': 1351, 'actual': 12, 'complet': 347, 'ha': 792, 'excema': 590, 'hit': 834, 'everyday': 582, 'massiv': 1052, 'cap': 245, 'lenor': 967, 'unstopp': 1840, 'convert': 373, 'mild': 1077, 'messi': 1071, 'step': 1645, 'dad': 417, 'awhil': 107, 'suitabl': 1694, 'obviou': 1162, 'choic': 295, 'believ': 146, 'continu': 369, 'term': 1746, 'benefit': 150, 'happi': 803, 'alround': 48, 'consist': 363, 'dilut': 483, 'guess': 789, 'blue': 177, 'pigment': 1261, 'act': 11, 'reli': 1395, 'hydrat': 864, 'mixtur': 1092, 'varieti': 1851, 'reach': 1358, 'matter': 1054, 'neg': 1135, 'pump': 1332, 'end': 560, 'foam': 677, 'met': 1072, 'standard': 1634, 'bar': 118, 'quarter': 1342, 'truli': 1813, 'load': 995, 'sometim': 1589, 'stapl': 1635, 'heal': 816, 'abras': 2, 'boy': 198, 'store': 1656, 'cupboard': 410, 'dead': 428, 'therapi': 1754, 'origin': 1192, 'mini': 1080, 'arriv': 85, 'real': 1363, 'delight': 454, 'quick': 1345, 'subscrib': 1682, 'light': 975, 'bubbl': 223, 'floral': 671, 'masculin': 1049, 'bigger': 156, 'volum': 1870, 'garag': 723, 'known': 944, 'sweet': 1719, 'textur': 1751, 'artifici': 89, 'justv': 929, 'hour': 852, 'pale': 1212, 'disastr': 490, 'success': 1686, 'creat': 399, 'spot': 1623, 'abl': 1, 'deepli': 438, 'exfoli': 593, 'wont': 1928, 'suffer': 1689, 'babi': 108, 'style': 1679, 'genuin': 732, 'neatli': 1131, 'everyth': 584, 'shall': 1514, 'tresmemm': 1807, 'fussi': 719, 'suit': 1693, 'therefor': 1755, 'prefer': 1301, 'burst': 232, 'transit': 1802, 'snack': 1572, 'went': 1900, 'weekend': 1897, 'decid': 433, 'wet': 1901, 'cashmer': 259, 'sweater': 1718, 'sainsburi': 1455, 'scrummi': 1487, 'delic': 452, 'requir': 1410, 'bring': 214, 'runni': 1449, 'glam': 743, 'somewher': 1591, 'follow': 680, 'inexpens': 894, 'plain': 1264, 'mother': 1112, 'law': 957, 'wat': 1886, 'discount': 492, 'tin': 1774, 'sooth': 1597, 'residu': 1411, 'cool': 378, 'readi': 1362, 'magic': 1027, 'latest': 953, 'variat': 1850, 'address': 16, 'environment': 571, 'transport': 1803, 'cost': 384, 'commend': 333, 'sens': 1500, 'detect': 470, 'breath': 205, 'form': 687, 'slightli': 1552, 'zesti': 1961, 'user': 1845, 'repres': 1408, 'lessen': 968, 'impact': 877, 'environ': 570, 'albeit': 35, 'smallest': 1560, 'ideal': 869, 'son': 1592, 'adult': 20, 'children': 292, 'belov': 147, 'pet': 1250, 'incred': 890, 'lolli': 998, 'bargain': 120, 'introduc': 909, 'partner': 1223, 'sadli': 1452, 'share': 1517, 'hot': 851, 'melt': 1065, 'drip': 528, 'finish': 659, 'favour': 637, 'properli': 1324, 'inferior': 895, 'tesco': 1748, 'microwav': 1076, 'sever': 1510, 'badli': 111, 'lumpi': 1017, 'mostli': 1109, 'simplic': 1539, 'gone': 758, 'effect': 547, 'trace': 1799, 'fanci': 630, 'maskara': 1050, 'remain': 1399, 'sticki': 1647, 'defin': 444, 'heavi': 820, 'frequent': 699, 'perhap': 1240, 'capsul': 247, 'household': 854, 'terribl': 1747, 'allerg': 37, 'constant': 364, 'hay': 812, 'fever': 648, 'wrong': 1945, 'sign': 1529, 'gluten': 754, 'casserol': 260, 'sat': 1464, 'toilet': 1783, 'barley': 122, 'coeliac': 323, 'peopl': 1234, 'unsuit': 1841, 'pick': 1257, 'signific': 1531, 'rel': 1392, 'sturdier': 1678, 'travel': 1804, 'hous': 853, 'tini': 1776, 'surfac': 1711, 'pic': 1256, 'wonder': 1926, 'deni': 457, 'fix': 663, 'instead': 904, 'whenev': 1903, 'react': 1359, 'true': 1812, 'luxuri': 1023, 'prime': 1312, 'conveni': 372, 'incorpor': 888, 'cleanser': 311, 'eventu': 579, 'margin': 1042, 'obvious': 1163, 'comment': 334, 'appreci': 76, 'break': 203, 'vegan': 1856, 'daughter': 425, 'persuad': 1248, 'hesit': 826, 'pay': 1230, 'forward': 692, 'soup': 1602, 'risotto': 1432, 'younger': 1957, 'menopaus': 1068, 'calm': 240, 'wrinkl': 1942, 'crepey': 401, 'layer': 959, 'conjunct': 359, 'hyaluron': 863, 'companion': 340, 'loss': 1005, 'firm': 660, 'oz': 1205, 'csmart': 406, 'screw': 1484, 'determin': 472, 'loos': 1004, 'knife': 942, 'wise': 1921, 'advoid': 24, 'smart': 1561, 'local': 996, 'okay': 1178, 'meant': 1060, 'equal': 572, 'artif': 88, 'upset': 1843, 'simpli': 1538, 'english': 564, 'mustard': 1122, 'colman': 327, 'sunday': 1698, 'roast': 1433, 'tube': 1815, 'invari': 910, 'serv': 1507, 'nozzl': 1159, 'block': 172, 'someon': 1587, 'scrub': 1486, 'extremli': 606, 'frangranc': 697, 'fairli': 624, 'spread': 1625, 'soak': 1575, 'smelt': 1566, 'wilkinson': 1914, 'area': 80, 'soon': 1593, 'becom': 139, 'scalp': 1474, 'satisfi': 1465, 'sorri': 1600, 'voucher': 1871, 'post': 1289, 'slimi': 1554, 'problem': 1317, 'unhappi': 1832, 'respons': 1413, 'treat': 1805, 'portug': 1287, 'miss': 1088, 'tea': 1736, 'straighten': 1660, 'curl': 412, 'damag': 420, 'seller': 1499, 'pod': 1278, 'bag': 113, 'filler': 653, 'rich': 1423, 'special': 1609, 'elsewher': 554, 'laundri': 956, 'hate': 809, 'arrog': 86, 'unilev': 1833, 'hold': 838, 'palm': 1213, 'fine': 656, 'paragon': 1217, 'champ': 274, 'tight': 1769, 'win': 1916, 'doubl': 512, 'struggl': 1673, 'tough': 1795, 'unbeliev': 1825, 'compliment': 348, 'august': 98, 'itchi': 918, 'stream': 1664, 'grandchildren': 770, 'unfortun': 1831, 'green': 778, 'lime': 979, 'individu': 891, 'dandruff': 423, 'anti': 63, 'prior': 1314, 'particular': 1220, 'busi': 233, 'mum': 1118, 'admit': 18, 'neglect': 1136, 'empathis': 557, 'trial': 1809, 'opportun': 1184, 'reconnect': 1379, 'cme': 320, 'smother': 1570, 'offens': 1171, 'alo': 41, 'applic': 74, 'bedtim': 141, 'verdict': 1860, 'thumb': 1766, 'ye': 1949, 'second': 1493, 'lightweight': 976, 'tendenc': 1744, 'pull': 1331, 'liber': 970, 'discreet': 494, 'overwhelm': 1204, 'protector': 1327, 'retain': 1416, 'ezyema': 612, 'switch': 1721, 'radiant': 1349, 'regim': 1387, 'thinner': 1760, 'heavili': 821, 'cancel': 244, 'subscript': 1683, 'wait': 1874, 'fyi': 721, 'attract': 97, 'floweri': 673, 'badeda': 110, 'holiday': 840, 'sun': 1696, 'till': 1772, 'stope': 1654, 'blow': 176, 'prevent': 1307, 'transform': 1801, 'nose': 1152, 'dehydr': 451, 'sort': 1601, 'rest': 1414, 'sleep': 1549, 'caramel': 248, 'marshmallow': 1046, 'liter': 991, 'calori': 242, 'bomb': 185, 'gross': 782, 'gonna': 759, 'throw': 1765, 'coca': 322, 'butter': 234, 'marmit': 1045, 'lover': 1011, 'glass': 744, 'jar': 923, 'oddli': 1168, 'given': 740, 'persev': 1243, 'shini': 1524, 'root': 1437, 'drier': 527, 'grown': 785, 'horribl': 849, 'agre': 33, 'tighter': 1770, 'import': 878, 'confus': 358, 'milk': 1079, 'maker': 1033, 'risk': 1431, 'underwear': 1830, 'ultra': 1824, 'twice': 1819, 'combin': 330, 'harmoni': 807, 'chicken': 290, 'mushroom': 1121, 'pie': 1259, 'salt': 1458, 'ruin': 1447, 'chuck': 300, 'tongu': 1790, 'season': 1492, 'accident': 7, 'swallow': 1715, 'sea': 1489, 'xd': 1946, 'older': 1180, 'wide': 1911, 'awak': 104, 'flakey': 664, 'smelli': 1564, 'pit': 1262, 'plenti': 1273, 'longer': 1000, 'comparison': 342, 'yo': 1954, 'born': 191, 'defient': 443, 'odourless': 1170, 'suppl': 1706, 'nightli': 1145, 'bed': 140, 'clog': 317, 'pore': 1285, 'replenish': 1407, 'daytim': 427, 'reappli': 1367, 'overnight': 1202, 'unscent': 1837, 'patch': 1228, 'stone': 1652, 'munchi': 1119, 'food': 682, 'depend': 461, 'wish': 1922, 'talk': 1724, 'visit': 1869, 'certifi': 270, 'british': 215, 'foundat': 693, 'freshli': 702, 'launder': 955, 'reliabl': 1396, 'cooler': 379, 'wahs': 1873, 'soapi': 1577, 'type': 1820, 'downsid': 515, 'hole': 839, 'tresemm': 1806, 'stand': 1633, 'yummi': 1960, 'sugari': 1691, 'eco': 541, 'parcel': 1218, 'brain': 199, 'op': 1181, 'wife': 1912, 'safe': 1453, 'recomend': 1377, 'aswel': 94, 'moist': 1097, 'surf': 1710, 'stay': 1642, 'articl': 87, 'acn': 10, 'scar': 1475, 'opposit': 1185, 'life': 973, 'visibl': 1868, 'fade': 620, 'dermatologist': 463, 'game': 722, 'changer': 277, 'main': 1030, 'test': 1749, 'singl': 1542, 'mayo': 1057, 'bod': 180, 'bat': 127, 'quench': 1343, 'fell': 645, 'cooki': 377, 'dough': 513, 'superdrug': 1703, 'prize': 1315, 'buzz': 237, 'limit': 981, 'edit': 546, 'stayer': 1643, 'scratchi': 1482, 'rip': 1429, 'mistreat': 1090, 'dock': 501, 'reus': 1418, 'revitalis': 1420, 'gentli': 731, 'impur': 883, 'servic': 1508, 'fault': 634, 'rocemmend': 1434, 'almond': 40, 'mouth': 1113, 'fave': 635, 'dark': 424, 'passion': 1225, 'narrow': 1125, 'accur': 8, 'slim': 1553, 'pourer': 1294, 'dribbl': 526, 'washload': 1884, 'flower': 672, 'hint': 833, 'fruit': 709, 'mango': 1037, 'brought': 219, 'cornet': 381, 'luvli': 1021, 'carri': 257, 'worri': 1934, 'man': 1035, 'choos': 296, 'sweat': 1717, 'mayonnais': 1058, 'substanc': 1684, 'squeezi': 1628, 'geniu': 729, 'idea': 868, 'tall': 1725, 'unstabl': 1839, 'ive': 922, 'fridg': 703, 'tumbl': 1816, 'brittl': 216, 'shatter': 1520, 'groundhog': 783, 'cri': 402, 'overhaul': 1200, 'curri': 414, 'besid': 152, 'sachet': 1451, 'edibl': 545, 'phenomen': 1253, 'function': 715, 'longest': 1001, 'rid': 1425, 'kept': 932, 'drawback': 519, 'suppli': 1707, 'wear': 1893, 'diabet': 476, 'carbohydr': 251, 'nutrit': 1161, 'inform': 896, 'whatsoev': 1902, 'wall': 1877, 'specif': 1610, 'portion': 1286, 'whitehead': 1909, 'bash': 124, 'inadvert': 884, 'deterg': 471, 'fairi': 623, 'joint': 927, 'biolog': 161, 'septic': 1505, 'tank': 1728, 'dispens': 497, 'insert': 899, 'suffici': 1690, 'condit': 354, 'competit': 344, 'hav': 810, 'btilliant': 221, 'wild': 1913, 'enthusiast': 567, 'err': 573, 'gener': 728, 'custom': 415, 'write': 1944, 'uncomfort': 1829, 'clash': 305, 'coat': 321, 'sickli': 1528, 'raspberri': 1355, 'cover': 392, 'core': 380, 'remind': 1402, 'cheapest': 282, 'imagin': 873, 'insipid': 900, 'rush': 1450, 'develop': 473, 'process': 1319, 'bitter': 164, 'rippl': 1430, 'consid': 361, 'lush': 1020, 'suggest': 1692, 'petrolatum': 1251, 'damp': 421, 'eczema': 544, 'rosacea': 1439, 'coz': 394, 'wors': 1935, 'apprehens': 77, 'broken': 218, 'fit': 662, 'purpos': 1338, 'sport': 1622, 'mad': 1026, 'teenag': 1738, 'promis': 1321, 'moisturisor': 1101, 'deoder': 458, 'discov': 493, 'shame': 1515, 'broke': 217, 'manli': 1039, 'foami': 678, 'wondr': 1927, 'variou': 1852, 'chamomil': 273, 'weight': 1899, 'thicker': 1757, 'space': 1604, 'nicest': 1143, 'mmmm': 1094, 'bo': 178, 'beater': 137, 'plainli': 1265, 'bright': 207, 'bold': 184, 'grudg': 786, 'dirti': 487, 'tablet': 1722, 'necess': 1132, 'weekli': 1898, 'groceri': 781, 'budget': 225, 'cake': 239, 'exot': 595, 'veget': 1857, 'ariel': 81, 'domin': 507, 'global': 748, 'consum': 365, 'giant': 734, 'expert': 600, 'dodgi': 503, 'imit': 874, 'sub': 1680, 'guarante': 788, 'high': 829, 'rubberi': 1445, 'gossam': 763, 'case': 258, 'brightli': 210, 'funki': 716, 'purpl': 1337, 'grey': 780, 'swirl': 1720, 'gu': 787, 'outsid': 1195, 'grade': 767, 'disappear': 488, 'mysteri': 1123, 'sphinx': 1616, 'giza': 741, 'bermuda': 151, 'triangl': 1810, 'voynich': 1872, 'manuscript': 1041, 'xlarg': 1947, 'discontinu': 491, 'option': 1187, 'limescal': 980, 'unclog': 1828, 'wake': 1875, 'plump': 1276, 'ill': 871, 'pun': 1333, 'intend': 906, 'altern': 49, 'forth': 690, 'healthier': 818, 'advic': 22, 'minimum': 1081, 'annoy': 60, 'asid': 91, 'run': 1448, 'plug': 1275, 'potenti': 1292, 'increas': 889, 'member': 1066, 'endors': 561, 'practic': 1298, 'nappi': 1124, 'pyramid': 1339, 'warm': 1880, 'present': 1303, 'st': 1630, 'rememb': 1401, 'repurchas': 1409, 'figur': 652, 'medicin': 1062, 'cabinet': 238, 'salti': 1459, 'yeast': 1951, 'honest': 843, 'toast': 1780, 'fluctuat': 674, 'particulr': 1222, 'watch': 1887, 'smellllllll': 1565, 'sauna': 1467, 'outstand': 1196, 'turkey': 1817, 'neck': 1133, 'shake': 1512, 'graviti': 774, 'vastli': 1854, 'sharp': 1519, 'begin': 144, 'assum': 93, 'grow': 784, 'ocado': 1164, 'sampl': 1460, 'state': 1639, 'formula': 689, 'correct': 383, 'later': 952, 'boost': 189, 'sooo': 1595, 'complaint': 346, 'concept': 351, 'recal': 1369, 'tetra': 1750, 'public': 1329, 'innov': 898, 'refil': 1384, 'cardboard': 254, 'dose': 511, 'counter': 388, 'read': 1361, 'print': 1313, 'wrapper': 1941, 'magnif': 1028, 'anim': 57, 'whilst': 1906, 'provid': 1328, 'headquart': 815, 'offic': 1173, 'produc': 1320, 'countri': 389, 'sale': 1457, 'carbon': 252, 'footprint': 683, 'torn': 1792, 'extrat': 604, 'wherea': 1904, 'secondli': 1494, 'spare': 1607, 'rib': 1422, 'persdper': 1242, 'reorder': 1404, 'somewhat': 1590, 'feminin': 647, 'perspir': 1247, 'danc': 422, 'bay': 132, 'waxi': 1891, 'shark': 1518, 'ben': 148, 'jerri': 925, 'fragrant': 696, 'bargin': 121, 'vanilla': 1849, 'iritatw': 912, 'tbh': 1735, 'loo': 1002, 'conceal': 349, 'moment': 1102, 'coverag': 393, 'brighten': 208, 'glowi': 752, 'perfectli': 1237, 'view': 1866, 'consciou': 360, 'paper': 1216, 'temperament': 1741, 'lazi': 960, 'girl': 737, 'solut': 1585, 'deep': 437, 'repeat': 1406, 'versatil': 1863, 'heel': 822, 'econom': 542, 'defo': 449, 'direct': 485, 'chapstick': 278, 'jot': 928, 'bob': 179, 'uncl': 1827, 'awesom': 106, 'doeant': 504, 'soggi': 1582, 'mess': 1070, 'dish': 496, 'lux': 1022, 'plan': 1266, 'kcal': 930, 'control': 371, 'diet': 479, 'biodegrad': 160, 'forev': 685, 'blackhead': 165, 'zone': 1962, 'fed': 641, 'tone': 1787, 'anymor': 65, 'bland': 166, 'wateri': 1889, 'gold': 757, 'spring': 1626, 'cold': 325, 'cardigan': 255, 'thirti': 1761, 'degre': 450, 'tie': 1768, 'boil': 182, 'bikini': 157, 'dedic': 436, 'ylang': 1953, 'town': 1797, 'aaaaamaz': 0, 'tattoooo': 1734, 'previous': 1309, 'admir': 17, 'blast': 167, 'whiff': 1905, 'planet': 1267, 'pollut': 1280, 'funni': 718, 'cone': 356, 'crispi': 403, 'cornetto': 382, 'flare': 666, 'itch': 917, 'crazi': 396, 'escap': 575, 'lift': 974, 'drop': 529, 'instantli': 903, 'relief': 1397, 'effortlessli': 550, 'alot': 44, 'effici': 548, 'linen': 983, 'pre': 1300, 'extract': 603, 'honey': 845, 'suckl': 1687, 'yesterday': 1952, 'perman': 1241, 'cherri': 288, 'blossom': 174, 'pea': 1231, 'sandal': 1462, 'wood': 1929, 'cup': 409, 'lunch': 1018, 'king': 938, 'gram': 769, 'antiperspir': 64, 'unblock': 1826, 'gradual': 768, 'pleasantli': 1271, 'surpris': 1712, 'cours': 391, 'fcuk': 639, 'opt': 1186, 'starter': 1638, 'newborn': 1139, 'gym': 791, 'hunger': 859, 'challeng': 272, 'strength': 1666, 'endur': 562, 'helmann': 824, 'bone': 187, 'tendon': 1745, 'appeal': 72, 'advantag': 21, 'citru': 303, 'muscl': 1120, 'bump': 228, 'ador': 19, 'handi': 799, 'persist': 1245, 'whitout': 1910, 'sin': 1540, 'spend': 1613, 'woken': 1924, 'reiment': 1391, 'smudg': 1571, 'novelti': 1158, 'fish': 661, 'quantiti': 1341, 'deodour': 460, 'swear': 1716, 'arkward': 82, 'kick': 935, 'sent': 1503, 'toiletri': 1784, 'linnen': 986, 'film': 654, 'teeth': 1739, 'ceram': 266, 'realis': 1364, 'cent': 264, 'gooey': 761, 'marshmallowey': 1047, 'phish': 1254, 'class': 306, 'spain': 1606, 'breakout': 204, 'intoler': 908, 'superior': 1704, 'alon': 43, 'thiught': 1762, 'cojld': 324, 'garnier': 724, 'apar': 70, 'stripey': 1670, 'feet': 644, 'orang': 1188, 'stink': 1650, 'moral': 1106, 'stori': 1657, 'format': 688, 'shave': 1521, 'dress': 524, 'fewer': 649, 'worn': 1933, 'meet': 1064, 'amazingli': 54, 'flavor': 668, 'powderi': 1296, 'exempt': 592, 'medium': 1063, 'annoyiji': 61, 'occas': 1165, 'immedi': 875, 'serum': 1506, 'contribut': 370, 'deco': 435, 'women': 1925, 'eldest': 552, 'forgotten': 686, 'chew': 289, 'rope': 1438, 'school': 1478, 'lie': 972, 'nother': 1155, 'automat': 100, 'gloopi': 749, 'drugstor': 530, 'brainer': 200, 'partnership': 1224, 'encourag': 559, 'spici': 1617, 'fear': 640, 'spilt': 1619, 'alright': 47, 'gotta': 765, 'cetearyl': 271, 'cif': 302, 'power': 1297, 'mirror': 1085, 'nightmar': 1146, 'fun': 714, 'ordinari': 1190, 'thicken': 1756, 'gravi': 773, 'pop': 1283, 'press': 1305, 'spell': 1612, 'scali': 1473, 'quid': 1347, 'tempt': 1742, 'everytim': 585, 'spf': 1615, 'critic': 405, 'uva': 1847, 'convinc': 374, 'refer': 1383, 'verifi': 1861, 'overli': 1201, 'allergi': 38, 'certain': 268, 'bondi': 186, 'sand': 1461, 'slight': 1551, 'fabul': 615, 'hike': 831, 'itsel': 920, 'frizz': 706, 'flat': 667, 'lank': 947, 'bounc': 195, 'stuck': 1675, 'unus': 1842, 'cooker': 376, 'invigor': 911, 'newer': 1140, 'rd': 1357, 'isnt': 915, 'cerav': 267, 'norm': 1150, 'begun': 145, 'calmer': 241, 'sciencey': 1479, 'id': 867, 'unless': 1834, 'anytim': 68, 'indulg': 893, 'bite': 163, 'dog': 506, 'micro': 1075, 'granul': 771, 'wari': 1879, 'stainless': 1632, 'steel': 1644, 'liquidi': 989, 'velvet': 1858, 'hopingthat': 848, 'fair': 622, 'btw': 222, 'instruct': 905, 'typic': 1821, 'dy': 535, 'tong': 1789, 'question': 1344, 'clip': 316, 'sensat': 1501, 'definatli': 445, 'surprisingli': 1713, 'shock': 1525, 'litr': 992, 'imo': 876, 'salad': 1456, 'bake': 114, 'bean': 134, 'frozen': 708, 'pear': 1232, 'youth': 1958, 'anitipersperi': 58, 'accustom': 9, 'richer': 1424, 'bundl': 229, 'low': 1012, 'carb': 249, 'duti': 534, 'sock': 1578, 'fraction': 694, 'loveliest': 1010, 'wrist': 1943, 'drum': 531, 'modest': 1096, 'inch': 886, 'god': 755, 'somebodi': 1586, 'brazil': 202, 'expat': 596, 'bearabl': 135, 'vfm': 1865, 'head': 813, 'winner': 1918, 'iv': 921, 'batgain': 129, 'averag': 101, 'oreal': 1191, 'resist': 1412, 'girlfriend': 738, 'mention': 1069, 'benefici': 149, 'list': 990, 'chanc': 275, 'transfer': 1800, 'snif': 1574, 'commit': 336, 'stiff': 1648, 'kg': 934, 'alobg': 42, 'matur': 1055, 'hiya': 836, 'stress': 1667, 'pricey': 1311, 'reliev': 1398, 'final': 655, 'tropic': 1811, 'lili': 978, 'mud': 1115, 'spag': 1605, 'bol': 183, 'attent': 96, 'lingeri': 985, 'cotton': 386, 'silk': 1534, 'fiber': 650, 'gigant': 736, 'possibl': 1288, 'lash': 950, 'eyebrow': 609, 'hide': 828, 'sunshin': 1700, 'clingi': 315, 'greazi': 777, 'advis': 23, 'rare': 1353, 'desir': 467, 'blotch': 175, 'brown': 220, 'attach': 95, 'ignor': 870, 'fortun': 691, 'fulfil': 712, 'criteria': 404, 'wilt': 1915, 'yard': 1948, 'radiu': 1350, 'alarm': 34, 'whisk': 1907, 'drainag': 518, 'devin': 474, 'signatur': 1530, 'haha': 793, 'saver': 1469, 'pamper': 1214, 'heheh': 823, 'hunk': 860, 'shelf': 1522, 'unscrew': 1838, 'glove': 750, 'odd': 1167, 'horrif': 850, 'headach': 814, 'desper': 468, 'afraid': 27, 'disturb': 499, 'properti': 1325, 'fluff': 675, 'dryness': 532, 'unpleas': 1836, 'seal': 1490, 'drain': 517, 'yogurt': 1955, 'alpro': 45, 'blop': 173, 'postag': 1290, 'doctor': 502, 'soooo': 1596, 'walk': 1876, 'pervas': 1249, 'sky': 1548, 'fruiti': 710, 'strike': 1668, 'balanc': 115, 'slurp': 1557, 'reckon': 1375, 'nearer': 1129, 'path': 1229, 'decidedli': 434, 'newsweek': 1141, 'fluffi': 676, 'smoother': 1568, 'hive': 835, 'aggrav': 31, 'wool': 1930, 'chsnge': 299, 'remark': 1400, 'specifi': 1611, 'conclus': 353, 'lure': 1019, 'entic': 568, 'squint': 1629, 'reviv': 1421, 'fallen': 626, 'deffinalti': 441, 'fond': 681, 'poor': 1281, 'consider': 362, 'dinner': 484, 'parti': 1219, 'everybodi': 581, 'jelli': 924, 'loyal': 1013, 'balm': 116, 'finger': 657, 'color': 328, 'petroleum': 1252, 'shadow': 1511, 'appropri': 79, 'tidi': 1767, 'eyelin': 610, 'error': 574, 'spars': 1608, 'bud': 224, 'homemad': 842, 'brill': 211, 'row': 1443, 'roll': 1435, 'shaken': 1513, 'disgust': 495, 'contact': 366, 'suddenli': 1688, 'alth': 50, 'insread': 902, 'toxic': 1798, 'dud': 533, 'split': 1620, 'cautiou': 262, 'lucki': 1015, 'monthli': 1105, 'beed': 142, 'scrib': 1485, 'hurt': 861, 'glitter': 747, 'ankl': 59, 'drawer': 520, 'bovril': 196, 'moan': 1095, 'arm': 83, 'significantli': 1532, 'strang': 1661, 'bleach': 168, 'occasion': 1166, 'recognis': 1376, 'cedarwood': 263, 'popular': 1284, 'bother': 192, 'dozen': 516, 'blindingli': 171, 'leg': 966, 'tanner': 1729, 'stronger': 1672, 'street': 1665, 'veg': 1855, 'cube': 407, 'batch': 128, 'recipebut': 1374, 'secret': 1495, 'mile': 1078, 'hr': 856, 'sedentari': 1497, 'worst': 1936, 'verri': 1862, 'hi': 827, 'uk': 1822, 'anywher': 69, 'massag': 1051, 'keen': 931, 'ban': 117, 'sneaki': 1573, 'woke': 1923, 'sunk': 1699, 'tacki': 1723, 'surviv': 1714, 'brexit': 206, 'defintley': 448, 'die': 478, 'em': 556, 'pregnant': 1302, 'moisteris': 1098, 'lost': 1006, 'count': 387, 'streaki': 1663, 'capful': 246, 'common': 337, 'loyalti': 1014, 'sooner': 1594, 'mostur': 1110, 'definetli': 446, 'mostureris': 1111, 'tissu': 1779, 'pain': 1211, 'pleasur': 1272, 'happili': 804, 'vera': 1859, 'directli': 486, 'allow': 39, 'subject': 1681, 'greenhous': 779, 'gase': 725, 'ultim': 1823, 'fight': 651, 'tire': 1778, 'drawn': 521, 'child': 291, 'dosag': 510, 'statement': 1640, 'worthwhil': 1938, 'sorbet': 1598, 'focus': 679, 'exact': 587, 'costco': 385, 'curiou': 411, 'baffl': 112, 'elviv': 555, 'realiz': 1365, 'silicon': 1533, 'hairdress': 795, 'appoint': 75, 'defenc': 439, 'purifi': 1336, 'pralin': 1299, 'choc': 293, 'solero': 1584}\n"
     ]
    }
   ],
   "source": [
    "count_vectorizer  = CountVectorizer(stop_words='english')\n",
    "count_vectorizer.fit(X_train)\n",
    "print('\\nVocabulary: \\n', count_vectorizer.vocabulary_)\n",
    "\n",
    "train_c = count_vectorizer.fit_transform(X_train)\n",
    "test_c = count_vectorizer.transform(X_test)"
   ]
  },
  {
   "cell_type": "markdown",
   "metadata": {},
   "source": [
    "### Multinomial Naive Bayes model"
   ]
  },
  {
   "cell_type": "code",
   "execution_count": 38,
   "metadata": {},
   "outputs": [],
   "source": [
    "#IMPLEMENTING AND RUNNNING MNB MODEL - COUNT\n",
    "mnb1 = MultinomialNB()\n",
    "mnb1.fit(train_c, y_train)\n",
    "prediction = mnb1.predict(test_c)"
   ]
  },
  {
   "cell_type": "code",
   "execution_count": 39,
   "metadata": {},
   "outputs": [],
   "source": [
    "#EVALUATION\n",
    "mnb_a1 = accuracy_score(y_test, prediction)*100\n",
    "mnb_p1 = precision_score(y_test, prediction)* 100\n",
    "mnb_r1 = recall_score(y_test, prediction)*100\n",
    "mnb_f11 = f1_score(y_test, prediction)*100"
   ]
  },
  {
   "cell_type": "code",
   "execution_count": 40,
   "metadata": {},
   "outputs": [
    {
     "data": {
      "text/plain": [
       "<sklearn.metrics._plot.confusion_matrix.ConfusionMatrixDisplay at 0x1e3ada135e0>"
      ]
     },
     "execution_count": 40,
     "metadata": {},
     "output_type": "execute_result"
    },
    {
     "data": {
      "image/png": "[encoded data removed]",
      "text/plain": [
       "<Figure size 432x288 with 2 Axes>"
      ]
     },
     "metadata": {
      "needs_background": "light"
     },
     "output_type": "display_data"
    }
   ],
   "source": [
    "#CONFUSION MATRIX\n",
    "cm =  confusion_matrix(y_test, prediction, labels=mnb1.classes_)\n",
    "display = ConfusionMatrixDisplay(confusion_matrix=cm,\n",
    "                              display_labels=mnb1.classes_) \n",
    "display.plot() "
   ]
  },
  {
   "cell_type": "markdown",
   "metadata": {},
   "source": [
    "### Support Vector Machine model"
   ]
  },
  {
   "cell_type": "code",
   "execution_count": 41,
   "metadata": {},
   "outputs": [],
   "source": [
    "#IMPLEMENTING AND RUNNNING SVM MODEL - COUNT\n",
    "svm1 = SVC(kernel='linear')\n",
    "svm1.fit(train_c, y_train)\n",
    "prediction = svm1.predict(test_c)"
   ]
  },
  {
   "cell_type": "code",
   "execution_count": 42,
   "metadata": {},
   "outputs": [],
   "source": [
    "#EVALUATION\n",
    "svm_a1 = accuracy_score(y_test, prediction)*100\n",
    "svm_p1 = precision_score(y_test, prediction)* 100\n",
    "svm_r1 = recall_score(y_test, prediction)*100\n",
    "svm_f11 = f1_score(y_test, prediction)*100"
   ]
  },
  {
   "cell_type": "code",
   "execution_count": 43,
   "metadata": {},
   "outputs": [
    {
     "data": {
      "text/plain": [
       "<sklearn.metrics._plot.confusion_matrix.ConfusionMatrixDisplay at 0x1e3abcecca0>"
      ]
     },
     "execution_count": 43,
     "metadata": {},
     "output_type": "execute_result"
    },
    {
     "data": {
      "image/png": "[encoded data removed]",
      "text/plain": [
       "<Figure size 432x288 with 2 Axes>"
      ]
     },
     "metadata": {
      "needs_background": "light"
     },
     "output_type": "display_data"
    }
   ],
   "source": [
    "#CONFUSION MATRIX\n",
    "cm =  confusion_matrix(y_test, prediction, labels=svm1.classes_)\n",
    "display = ConfusionMatrixDisplay(confusion_matrix=cm,\n",
    "                              display_labels=svm1.classes_) \n",
    "display.plot() "
   ]
  },
  {
   "cell_type": "markdown",
   "metadata": {},
   "source": [
    "### Logistic Regression model"
   ]
  },
  {
   "cell_type": "code",
   "execution_count": 44,
   "metadata": {},
   "outputs": [],
   "source": [
    "#IMPLEMENTING AND RUNNNING LR MODEL - COUNT\n",
    "lr1 = LogisticRegression()\n",
    "lr1.fit(train_c, y_train)\n",
    "prediction = lr1.predict(test_c)"
   ]
  },
  {
   "cell_type": "code",
   "execution_count": 45,
   "metadata": {},
   "outputs": [],
   "source": [
    "#EVALUATION\n",
    "lr_a1 = accuracy_score(y_test, prediction)*100\n",
    "lr_p1 = precision_score(y_test, prediction)* 100\n",
    "lr_r1 = recall_score(y_test, prediction)*100\n",
    "lr_f11 = f1_score(y_test, prediction)*100"
   ]
  },
  {
   "cell_type": "code",
   "execution_count": 46,
   "metadata": {},
   "outputs": [
    {
     "data": {
      "text/plain": [
       "<sklearn.metrics._plot.confusion_matrix.ConfusionMatrixDisplay at 0x1e3ada99eb0>"
      ]
     },
     "execution_count": 46,
     "metadata": {},
     "output_type": "execute_result"
    },
    {
     "data": {
      "image/png": "[encoded data removed]",
      "text/plain": [
       "<Figure size 432x288 with 2 Axes>"
      ]
     },
     "metadata": {
      "needs_background": "light"
     },
     "output_type": "display_data"
    }
   ],
   "source": [
    "#CONFUSION MATRIX\n",
    "cm =  confusion_matrix(y_test, prediction, labels=lr1.classes_)\n",
    "display = ConfusionMatrixDisplay(confusion_matrix=cm,\n",
    "                              display_labels=lr1.classes_) \n",
    "display.plot() "
   ]
  },
  {
   "cell_type": "markdown",
   "metadata": {},
   "source": [
    "# Decision- Tree"
   ]
  },
  {
   "cell_type": "code",
   "execution_count": 47,
   "metadata": {},
   "outputs": [],
   "source": [
    " #IMPLEMENTING AND RUNNNING Decision Tree\n",
    "d1=DecisionTreeClassifier(random_state=42)\n",
    "d1.fit(train_c, y_train)\n",
    "prediction = d1.predict(test_c)\n",
    " \n"
   ]
  },
  {
   "cell_type": "code",
   "execution_count": 74,
   "metadata": {},
   "outputs": [
    {
     "name": "stdout",
     "output_type": "stream",
     "text": [
      "83.125\n"
     ]
    }
   ],
   "source": [
    "#EVALUATION\n",
    "d1_a1 = accuracy_score(y_test, prediction)*100\n",
    "d1_p1 = precision_score(y_test, prediction)* 100\n",
    "d1_r1 = recall_score(y_test, prediction)*100\n",
    "d1_f11 = f1_score(y_test, prediction)*100\n",
    "print(d1_p1)"
   ]
  },
  {
   "cell_type": "code",
   "execution_count": 49,
   "metadata": {},
   "outputs": [
    {
     "data": {
      "text/plain": [
       "<sklearn.metrics._plot.confusion_matrix.ConfusionMatrixDisplay at 0x1e3aec1df10>"
      ]
     },
     "execution_count": 49,
     "metadata": {},
     "output_type": "execute_result"
    },
    {
     "data": {
      "image/png": "[encoded data removed]",
      "text/plain": [
       "<Figure size 432x288 with 2 Axes>"
      ]
     },
     "metadata": {
      "needs_background": "light"
     },
     "output_type": "display_data"
    }
   ],
   "source": [
    "#CONFUSION MATRIX\n",
    "cm =  confusion_matrix(y_test, prediction, labels=d1.classes_)\n",
    "display = ConfusionMatrixDisplay(confusion_matrix=cm,\n",
    "                              display_labels=d1.classes_) \n",
    "display.plot()"
   ]
  },
  {
   "cell_type": "markdown",
   "metadata": {},
   "source": [
    "## TFIDF VECTORIZER AND MODELING\n",
    "\n",
    "We examine the total document weightage of a word in TfidfVectorizer. It assists us in coping with the most common terms. We may use it to penalize them. The word counts are weighted by a measure of how frequently they appear in the documents in TfidfVectorizer."
   ]
  },
  {
   "cell_type": "markdown",
   "metadata": {},
   "source": [
    "# Decision Tree using TFIDF Vector"
   ]
  },
  {
   "cell_type": "code",
   "execution_count": 55,
   "metadata": {},
   "outputs": [
    {
     "name": "stdout",
     "output_type": "stream",
     "text": [
      "\n",
      "Vocabulary: \n",
      " {'like': 1122, 'simpl': 1765, 'brand': 227, 'sensit': 1722, 'need': 1304, 'realli': 1573, 'care': 288, 'chemic': 323, 'face': 707, 'moisturis': 1258, 'fantast': 725, 'littl': 1139, 'smell': 1795, 'gel': 840, 'consist': 407, 'sticki': 1895, 'gloopi': 863, 'market': 1195, 'appli': 84, 'sink': 1772, 'quickli': 1548, 'leav': 1106, 'feel': 741, 'refresh': 1592, 'heavi': 942, 'reaction': 1567, 'combin': 373, 'ideal': 997, 'greasi': 892, 'hour': 979, 'wear': 2180, 'total': 2059, 'normal': 1325, 'sometim': 1826, 'creami': 445, 'makeup': 1185, 'easili': 621, 'short': 1754, 'period': 1421, 'time': 2036, 'sunk': 1950, 'light': 1118, 'wrinkl': 2235, 'perform': 1418, 'miracl': 1240, 'prevent': 1506, 'dri': 600, 'day': 478, 'effect': 629, 'heat': 941, 'sun': 1947, 'think': 2021, 'best': 175, 'job': 1064, 'longer': 1147, 'cheaper': 316, 'end': 645, 'shampoo': 1737, 'make': 1183, 'hair': 913, 'shini': 1751, 'soft': 1815, 'bodi': 207, 'tini': 2039, 'bit': 185, 'goe': 871, 'long': 1146, 'way': 2178, 'bottl': 219, 'month': 1264, 'wonder': 2218, 'stuff': 1927, 'love': 1157, 'wash': 2167, 'deg': 502, 'remain': 1608, 'capsul': 279, 'washer': 2168, 'cloth': 360, 'occas': 1341, 'stuck': 1925, 'filter': 756, 'trigger': 2083, 'fault': 730, 'bought': 220, 'prefer': 1498, 'persil': 1426, 'non': 1322, 'bio': 181, 'tablet': 1978, 'buy': 266, 'fragranc': 804, 'overpow': 1382, 'wife': 2203, 'happi': 923, 'tri': 2080, 'fairli': 717, 'swatch': 1969, 'quit': 1550, 'conceal': 393, 'hand': 917, 'took': 2056, 'faint': 714, 'stain': 1878, 'impress': 1010, 'wipe': 2211, 'cool': 423, 'slightest': 1782, 'tingl': 2038, 'clean': 348, 'yuck': 2254, 'ye': 2243, 'includ': 1017, 'mascara': 1199, 'pack': 1385, 'probabl': 1515, 'main': 1181, 'niggl': 1315, 'review': 1632, 'collect': 369, 'promot': 1521, 'good': 875, 'perfect': 1416, 'creat': 447, 'fruit': 820, 'cream': 444, 'balanc': 130, 'lolli': 1145, 'fact': 709, 'foami': 783, 'rest': 1626, 'vanilla': 2129, 'ice': 994, 'flavour': 772, 'shower': 1755, 'perfum': 1419, 'thing': 2020, 'especi': 663, 'babi': 123, 'nd': 1297, 'lot': 1155, 'avoid': 117, 'post': 1484, 'birth': 184, 'irrit': 1051, 'fresh': 809, 'harm': 927, 'smooth': 1799, 'indulg': 1027, 'marshmallow': 1197, 'mostli': 1272, 'half': 915, 'pot': 1486, 'add': 18, 'term': 2006, 'textur': 2011, 'occasion': 1342, 'treat': 2076, 'daili': 469, 'lather': 1096, 'nice': 1313, 'water': 2174, 'size': 1775, 'compar': 384, 'facial': 708, 'disappoint': 556, 'conveni': 417, 'toner': 2053, 'sooth': 1834, 'everi': 668, 'alway': 60, 'look': 1150, 'forward': 801, 'definit': 499, 'recommend': 1585, 'remov': 1612, 'eye': 699, 'ad': 17, 'senstiv': 1723, 'contain': 412, 'witch': 2214, 'hazel': 934, 'someth': 1825, 'usual': 2126, 'hard': 925, 'ingredi': 1032, 'clear': 353, 'expect': 687, 'result': 1627, 'obvious': 1339, 'chocol': 331, 'great': 893, 'multi': 1284, 'subscript': 1933, 'start': 1884, 'ago': 39, 'stop': 1902, 'sweat': 1971, 'stay': 1889, 'control': 416, 'year': 2244, 'confid': 401, 'return': 1630, 'kick': 1076, 'difficulti': 544, 'hold': 963, 'fall': 719, 'flat': 770, 'moder': 1252, 'clay': 347, 'right': 1641, 'shine': 1750, 'cheap': 315, 'scent': 1693, 'offer': 1349, 'massiv': 1203, 'bonu': 214, 'beauti': 156, 'hang': 921, 'bed': 159, 'sheet': 1745, 'radiat': 1552, 'hous': 980, 'big': 177, 'fan': 723, 'dove': 588, 'doesnt': 577, 'wow': 2232, 'factor': 710, 'base': 139, 'commerci': 378, 'help': 949, 'price': 1509, 'point': 1471, 'dont': 581, 'morn': 1270, 'receiv': 1579, 'vaselin': 2133, 'alo': 49, 'tryit': 2088, 'sampl': 1676, 'wait': 2158, 'amaz': 61, 'lotion': 1156, 'easi': 619, 'soak': 1811, 'mani': 1189, 'problem': 1516, 'differ': 542, 'itch': 1055, 'shop': 1753, 'itchi': 1056, 'anymor': 74, 'mustard': 1290, 'tasti': 1991, 'link': 1131, 'africa': 35, 'bundl': 260, 'dealt': 482, 'holiday': 966, 'laundri': 1098, 'come': 374, 'lush': 1171, 'daughter': 477, 'whilst': 2195, 'valu': 2128, 'subscrib': 1932, 'save': 1685, 'kit': 1080, 'deliv': 508, 'regularli': 1598, 'effort': 631, 'wherea': 2192, 'trawl': 2074, 'faff': 712, 'open': 1360, 'purchas': 1535, 'im': 1001, 'coeliac': 366, 'intoler': 1045, 'cow': 439, 'milk': 1232, 'huge': 984, 'sweet': 1973, 'tooth': 2057, 'ive': 1060, 'vegan': 2137, 'altern': 57, 'ocado': 1340, 'sell': 1717, 'number': 1335, 'delici': 506, 'tesco': 2008, 'gluten': 868, 'dairi': 470, 'free': 807, 'cornetto': 427, 'howev': 982, 'super': 1953, 'excit': 680, 'cover': 437, 'nut': 1336, 'cone': 400, 'crispi': 452, 'hide': 953, 'aw': 118, 'tast': 1990, 'describ': 523, 'bland': 192, 'frozen': 819, 'whip': 2196, 'soya': 1842, 'enjoy': 652, 'eat': 622, 'cring': 451, 'understand': 2108, 'rave': 1563, 'magnum': 1180, 'spot': 1867, 'rang': 1557, 'continu': 414, 'left': 1107, 'know': 1085, 'came': 274, 'anoth': 71, 'pleas': 1459, 'deodor': 513, 'afford': 33, 'bulk': 257, 'obviou': 1338, 'choic': 333, 'far': 726, 'felt': 744, 'close': 359, 'poor': 1474, 'read': 1568, 'amazon': 64, 'send': 1719, 'larger': 1091, 'decid': 485, 'order': 1367, 'small': 1790, 'advertis': 28, 'sure': 1962, 'worth': 2229, 'extra': 693, 'spell': 1852, 'fabric': 705, 'softer': 1817, 'rich': 1637, 'went': 2187, 'kid': 1077, 'tub': 2089, 'straighten': 1909, 'depth': 518, 'meal': 1211, 'importantli': 1008, 'famili': 722, 'arriv': 97, 'noodl': 1323, 'say': 1688, 'fast': 727, 'deliveri': 509, 'recent': 1580, 'work': 2224, 'moistur': 1257, 'pretti': 1505, 'decent': 484, 'dissapoint': 567, 'previou': 1507, 'version': 2147, 'ultra': 2099, 'compart': 386, 'dissolv': 569, 'complet': 390, 'trace': 2065, 'white': 2199, 'trail': 2067, 'dark': 475, 'react': 1566, 'near': 1298, 'smaller': 1791, 'ok': 1354, 'calori': 273, 'choc': 329, 'lump': 1167, 'alreadi': 54, 'second': 1711, 'box': 223, 'gentl': 844, 'kind': 1078, 'comfort': 375, 'practic': 1495, 'suggest': 1943, 'individu': 1025, 'retail': 1628, 'soften': 1816, 'rememb': 1610, 'biolog': 183, 'deterg': 532, 'grew': 897, 'eczema': 626, 'allergi': 46, 'prone': 1522, 'sever': 1731, 'member': 1219, 'pleasant': 1460, 'overli': 1380, 'domin': 580, 'fluid': 781, 'formul': 797, 'mean': 1212, 'cold': 368, 'highli': 955, 'concentr': 394, 'real': 1570, 'life': 1116, 'photo': 1439, 'appear': 82, 'relat': 1601, 'repres': 1618, 'regardless': 1594, 'packag': 1386, 'materi': 1205, 'gmo': 869, 'better': 176, 'carri': 290, 'gym': 910, 'bag': 128, 'rub': 1660, 'overwhelm': 1383, 'alon': 51, 'everyth': 672, 'rush': 1666, 'handi': 918, 'excel': 677, 'money': 1263, 'run': 1664, 'absolut': 5, 'nutrit': 1337, 'whatsoev': 2190, 'rubbish': 1662, 'moreish': 1267, 'quick': 1546, 'fli': 773, 'live': 1140, 'dead': 480, 'divin': 571, 'glide': 860, 'luxuri': 1174, 'patch': 1408, 'star': 1883, 'desert': 525, 'island': 1052, 'foundat': 802, 'reappli': 1574, 'pump': 1533, 'featur': 737, 'allow': 47, 'shape': 1738, 'fit': 765, 'forehead': 790, 'cheek': 320, 'load': 1141, 'expens': 688, 'scrub': 1703, 'got': 879, 'rid': 1639, 'flaki': 768, 'area': 92, 'england': 650, 'packet': 1387, 'moist': 1255, 'instead': 1041, 'true': 2086, 'lip': 1133, 'fail': 713, 'dilut': 547, 'peopl': 1414, 'mild': 1230, 'condition': 399, 'chang': 311, 'pleasantli': 1461, 'supris': 1961, 'favorit': 732, 'shea': 1744, 'butter': 265, 'micellar': 1227, 'superb': 1954, 'neck': 1303, 'win': 2207, 'waterproof': 2176, 'nasti': 1294, 'safe': 1669, 'overal': 1376, 'guy': 909, 'chocci': 330, 'fish': 764, 'secret': 1713, 'deposit': 517, 'bite': 186, 'adventur': 27, 'joy': 1067, 'style': 1929, 'despit': 529, 'lynx': 1175, 'larg': 1090, 'slight': 1781, 'mark': 1194, 'formula': 798, 'sting': 1897, 'slightli': 1783, 'caus': 294, 'dermat': 519, 'flare': 769, 'possibl': 1483, 'inclus': 1018, 'bromo': 246, 'nitropropan': 1320, 'diol': 550, 'dissapoit': 568, 'reliabl': 1605, 'picki': 1443, 'hope': 973, 'otherwis': 1371, 'browni': 250, 'round': 1656, 'tin': 2037, 'singularli': 1771, 'supermarket': 1957, 'design': 526, 'horribl': 975, 'imposs': 1009, 'determin': 533, 'carpet': 289, 'piec': 1446, 'furnitur': 830, 'ruin': 1663, 'twice': 2094, 'coupl': 435, 'freshen': 810, 'mostiris': 1271, 'proof': 1523, 'struggl': 1923, 'set': 1730, 'spray': 1868, 'person': 1429, 'ask': 104, 'finish': 762, 'sunday': 1949, 'monday': 1262, 'thank': 2012, 'decant': 483, 'view': 2149, 'advanc': 25, 'vitamin': 2153, 'miner': 1234, 'approach': 89, 'choos': 334, 'anyth': 76, 'els': 637, 'onlin': 1358, 'boot': 216, 'local': 1142, 'store': 1905, 'stock': 1900, 'break': 230, 'soap': 1812, 'happen': 922, 'exactli': 676, 'liter': 1137, 'residu': 1622, 'reason': 1575, 'similar': 1764, 'manag': 1187, 'anyon': 75, 'gradual': 883, 'ran': 1555, 'thought': 2026, 'palm': 1392, 'st': 1877, 'moritz': 1269, 'natur': 1296, 'pale': 1391, 'applic': 85, 'medium': 1216, 'notic': 1330, 'disappear': 555, 'subtli': 1936, 'girlfriend': 852, 'said': 1670, 'new': 1309, 'ml': 1249, 'misl': 1242, 'week': 2183, 'bad': 124, 'cystic': 467, 'acn': 13, 'fade': 711, 'gone': 873, 'miss': 1244, 'garnier': 837, 'later': 1094, 'cap': 277, 'sens': 1720, 'descript': 524, 'drop': 607, 'wtf': 2239, 'gener': 842, 'soil': 1819, 'older': 1357, 'liquid': 1134, 'pure': 1536, 'pound': 1489, 'current': 462, 'dermatolog': 520, 'test': 2009, 'endors': 646, 'british': 242, 'develop': 535, 'power': 1494, 'condit': 398, 'comment': 377, 'tan': 1984, 'leg': 1108, 'tropez': 2084, 'glad': 856, 'gave': 839, 'shimmer': 1747, 'healthier': 940, 'consid': 405, 'fake': 718, 'polish': 1472, 'cell': 298, 'moeni': 1254, 'pod': 1470, 'pour': 1490, 'kitchen': 1081, 'drain': 591, 'overnight': 1381, 'drainag': 592, 'essenti': 664, 'waitros': 2159, 'unblock': 2103, 'favourit': 734, 'smelt': 1798, 'custom': 464, 'whirl': 2197, 'friend': 814, 'hardli': 926, 'serv': 1728, 'purpos': 1539, 'unless': 2113, 'option': 1365, 'avail': 115, 'particularli': 1400, 'puff': 1531, 'mosturi': 1275, 'past': 1405, 'breakout': 231, 'hydrat': 992, 'doubt': 586, 'switch': 1976, 'split': 1862, 'inconveni': 1019, 'messi': 1224, 'wast': 2171, 'kept': 1072, 'cupboard': 459, 'damag': 471, 'transit': 2071, 'away': 120, 'harsh': 929, 'squeez': 1873, 'tube': 2090, 'diffid': 545, 'brilliant': 240, 'everyon': 671, 'rate': 1562, 'nephew': 1307, 'want': 2163, 'christma': 336, 'final': 757, 'menopaus': 1221, 'women': 2217, 'strong': 1921, 'hot': 978, 'cheer': 321, 'eas': 618, 'cleans': 351, 'impresss': 1011, 'execel': 681, 'silki': 1763, 'extrem': 696, 'qualiti': 1541, 'deluveri': 510, 'state': 1886, 'servic': 1729, 'guest': 908, 'believ': 166, 'squeaki': 1872, 'downsid': 589, 'crave': 442, 'pregnanc': 1499, 'physic': 1440, 'initi': 1033, 'surpris': 1965, 'abl': 2, 'noth': 1328, 'special': 1848, 'floral': 775, 'plenti': 1463, 'curri': 463, 'brill': 238, 'snack': 1805, 'anytim': 77, 'prepar': 1501, 'fairi': 716, 'husband': 990, 'suffer': 1940, 'brother': 247, 'randomli': 1556, 'bright': 234, 'ball': 131, 'worri': 2226, 'wish': 2213, 'attract': 110, 'edibl': 627, 'reach': 1565, 'children': 328, 'child': 327, 'stand': 1880, 'popular': 1477, 'yummi': 2256, 'forget': 793, 'hidden': 952, 'discov': 560, 'sinc': 1769, 'becom': 158, 'stapl': 1882, 'usag': 2124, 'shimmeri': 1748, 'lucki': 1165, 'cost': 429, 'class': 344, 'gran': 886, 'canaria': 275, 'protect': 1527, 'pm': 1468, 'minut': 1239, 'check': 318, 'ident': 998, 'actual': 16, 'accept': 8, 'inde': 1023, 'warm': 2165, 'cook': 420, 'wrong': 2238, 'alcohol': 43, 'fine': 758, 'sniff': 1809, 'direct': 551, 'cours': 436, 'intens': 1044, 'bunch': 259, 'subject': 1931, 'recycl': 1587, 'plastic': 1457, 'outer': 1372, 'sleev': 1779, 'step': 1892, 'thumb': 2029, 'aaaaaaaaamaz': 0, 'age': 37, 'high': 954, 'rsi': 1659, 'act': 14, 'reli': 1604, 'happili': 924, 'classic': 345, 'night': 1316, 'nose': 1326, 'tresemm': 2077, 'afterward': 36, 'fab': 704, 'line': 1127, 'sale': 1673, 'street': 1914, 'doubl': 585, 'routin': 1657, 'oil': 1352, 'respect': 1624, 'ms': 1279, 'burnt': 262, 'fron': 817, 'bladder': 191, 'weak': 2179, 'plu': 1464, 'gorgeou': 877, 'bear': 152, 'taken': 1980, 'speedi': 1851, 'realis': 1571, 'foam': 782, 'nourish': 1332, 'frequent': 808, 'household': 981, 'sky': 1777, 'snif': 1808, 'directli': 552, 'machin': 1176, 'lid': 1113, 'carbon': 284, 'footprint': 789, 'addit': 19, 'throw': 2027, 'futur': 832, 'mini': 1235, 'issu': 1054, 'sunshini': 1952, 'seen': 1716, 'stick': 1894, 'posit': 1482, 'feedback': 740, 'neg': 1305, 'item': 1057, 'origin': 1370, 'beat': 154, 'hellman': 946, 'mayo': 1209, 'transport': 2072, 'innoc': 1034, 'bovril': 222, 'gooey': 876, 'unctuous': 2107, 'tar': 1988, 'black': 189, 'overflow': 1378, 'spoon': 1864, 'ding': 548, 'stir': 1899, 'earthi': 617, 'beefi': 163, 'hint': 958, 'celeri': 297, 'fatigu': 729, 'nightcap': 1317, 'mug': 1282, 'tea': 1994, 'pat': 1407, 'knock': 1084, 'sleep': 1778, 'soundli': 1839, 'certainli': 304, 'winter': 2210, 'train': 2068, 'dog': 578, 'ring': 1642, 'bell': 167, 'fresher': 811, 'persin': 1427, 'sort': 1838, 'powder': 1492, 'mix': 1247, 'thu': 2028, 'easier': 620, 'stiff': 1896, 'antiperspir': 73, 'squirt': 1876, 'persia': 1425, 'prime': 1511, 'food': 787, 'hellmann': 947, 'snow': 1810, 'drift': 603, 'arm': 95, 'grandchildren': 887, 'excema': 678, 'altogeth': 59, 'separ': 1725, 'burn': 261, 'sensat': 1721, 'earth': 616, 'old': 1356, 'absorb': 6, 'togeth': 2045, 'strict': 1917, 'vegetarian': 2139, 'wernt': 2188, 'veggi': 2140, 'eager': 615, 'tell': 1999, 'experi': 689, 'bathroom': 147, 'clutter': 362, 'honestli': 970, 'toll': 2050, 'oili': 1353, 'moment': 1261, 'rare': 1559, 'ethic': 665, 'sourc': 1841, 'unilev': 2112, 'player': 1458, 'address': 20, 'exist': 684, 'unscent': 2116, 'becam': 157, 'mom': 1260, 'concern': 396, 'detest': 534, 'cucumb': 457, 'wari': 2164, 'guess': 907, 'artifici': 101, 'linger': 1129, 'dewi': 537, 'complexion': 391, 'signific': 1759, 'improv': 1012, 'elast': 634, 'tone': 2052, 'id': 995, 'radiant': 1551, 'wasnt': 2170, 'tray': 2075, 'mucki': 1280, 'subtl': 1935, 'instantli': 1040, 'deep': 489, 'exfoli': 683, 'holi': 965, 'grail': 884, 'constantli': 409, 'bead': 150, 'benefit': 172, 'shelf': 1746, 'target': 1989, 'suppl': 1958, 'thoroughli': 2025, 'bath': 146, 'inexpens': 1028, 'therefor': 2016, 'film': 755, 'low': 1160, 'key': 1074, 'everyday': 670, 'elbow': 635, 'knee': 1082, 'slime': 1785, 'lower': 1161, 'temperatur': 2001, 'manufactur': 1191, 'advis': 30, 'simpli': 1766, 'rins': 1643, 'occur': 1343, 'kg': 1075, 'garment': 836, 'encrust': 644, 'diliveri': 546, 'lt': 1164, 'shin': 1749, 'bring': 241, 'bk': 188, 'surf': 1963, 'gem': 841, 'vaul': 2135, 'suppos': 1960, 'layer': 1101, 'let': 1111, 'fool': 788, 'lock': 1143, 'pick': 1442, 'tighter': 2033, 'brighter': 236, 'colour': 372, 'immedi': 1004, 'wouldnt': 2231, 'isnt': 1053, 'revolt': 1635, 'straight': 1907, 'bin': 180, 'sold': 1820, 'marmit': 1196, 'nearli': 1300, 'gram': 885, 'jar': 1061, 'toast': 2043, 'fat': 728, 'pork': 1479, 'drip': 605, 'brown': 249, 'jelli': 1062, 'sandwich': 1680, 'chees': 322, 'slice': 1780, 'tomato': 2051, 'boil': 208, 'egg': 633, 'bean': 151, 'teaspoon': 1996, 'drink': 604, 'stew': 1893, 'casserol': 293, 'bake': 129, 'potato': 1487, 'hate': 930, 'wherev': 2193, 'attend': 108, 'wake': 2160, 'smoothest': 1801, 'follow': 785, 'plain': 1452, 'bigger': 178, 'meant': 1213, 'men': 1220, 'alot': 52, 'bleach': 194, 'toilet': 2046, 'domesto': 579, 'superior': 1956, 'leak': 1105, 'everywher': 674, 'deodrant': 515, 'sporti': 1866, 'aliv': 44, 'delic': 505, 'drive': 606, 'lidful': 1114, 'stubborn': 1924, 'infus': 1031, 'plant': 1456, 'extract': 694, 'ther': 2014, 'pink': 1448, 'dramat': 593, 'someon': 1824, 'explain': 691, 'radox': 1554, 'crazi': 443, 'iv': 1059, 'yellow': 2246, 'fallen': 720, 'dirt': 553, 'wont': 2220, 'juic': 1068, 'bread': 229, 'yum': 2255, 'lol': 1144, 'snap': 1806, 'incred': 1022, 'bargain': 136, 'spend': 1853, 'averag': 116, 'form': 795, 'sign': 1757, 'search': 1709, 'tradit': 2066, 'gift': 849, 'aroma': 96, 'cleanos': 350, 'wet': 2189, 'rough': 1655, 'hurri': 988, 'travel': 2073, 'theyr': 2017, 'bare': 135, 'cut': 465, 'xlarg': 2241, 'discontinu': 558, 'drawback': 594, 'suppli': 1959, 'everytim': 673, 'chocolatey': 332, 'notif': 1331, 'request': 1620, 'produc': 1519, 'write': 2237, 'femal': 745, 'lose': 1152, 'plughol': 1466, 'young': 2251, 'count': 432, 'pl': 1450, 'shame': 1736, 'silk': 1762, 'wool': 2222, 'row': 1658, 'pantri': 1394, 'linen': 1128, 'degre': 503, 'action': 15, 'spin': 1861, 'cycl': 466, 'import': 1007, 'fibr': 750, 'strength': 1915, 'weekend': 2184, 'sore': 1836, 'red': 1588, 'defiantli': 494, 'repurchas': 1619, 'streak': 1911, 'energi': 648, 'proper': 1524, 'regular': 1597, 'basi': 141, 'darker': 476, 'sooner': 1831, 'wrist': 2236, 'feet': 742, 'tanner': 1986, 'loyal': 1162, 'inform': 1030, 'explan': 692, 'provid': 1529, 'lighter': 1119, 'touch': 2060, 'dose': 584, 'approxim': 91, 'yesterday': 2247, 'fuchsia': 822, 'passion': 1404, 'delight': 507, 'tumbl': 2091, 'dryer': 610, 'hors': 977, 'room': 1651, 'bar': 134, 'wrapper': 2234, 'pictur': 1444, 'allerg': 45, 'claw': 346, 'label': 1087, 'saw': 1687, 'nation': 1295, 'toler': 2049, 'fifth': 751, 'swell': 1974, 'squeak': 1871, 'green': 895, 'appl': 83, 'tressem': 2079, 'silicon': 1761, 'friendli': 815, 'dessert': 530, 'mint': 1238, 'absenc': 4, 'sorri': 1837, 'surfac': 1964, 'cif': 340, 'terribl': 2007, 'cloy': 361, 'defo': 501, 'indistinguish': 1024, 'finest': 759, 'milki': 1233, 'fulli': 824, 'fun': 825, 'autoimmun': 113, 'diseas': 562, 'dermatomyos': 522, 'scratch': 1698, 'god': 870, 'dm': 572, 'pregnant': 1500, 'belli': 168, 'unabl': 2100, 'spillag': 1859, 'transfer': 2069, 'replac': 1616, 'unavail': 2101, 'nappi': 1292, 'unpleas': 2115, 'tab': 1977, 'cardboard': 286, 'creas': 446, 'deal': 481, 'basic': 142, 'partner': 1402, 'lightli': 1120, 'quicker': 1547, 'handwash': 920, 'oh': 1351, 'wing': 2208, 'glue': 867, 'slip': 1787, 'smoothli': 1802, 'scenti': 1694, 'excess': 679, 'strip': 1919, 'girli': 853, 'preserv': 1503, 'rash': 1560, 'phone': 1438, 'told': 2048, 'mayb': 1208, 'nivea': 1321, 'compani': 382, 'german': 847, 'angri': 65, 'asda': 102, 'refund': 1593, 'card': 285, 'receipt': 1578, 'pocket': 1469, 'clearer': 354, 'straightaway': 1908, 'blemish': 195, 'relax': 1602, 'sealabl': 1708, 'affect': 32, 'reduc': 1589, 'buyer': 267, 'note': 1327, 'dispos': 566, 'charg': 314, 'overbear': 1377, 'glow': 865, 'creation': 448, 'match': 1204, 'honeysuckl': 972, 'sandalwood': 1679, 'lamin': 1088, 'tile': 2034, 'floor': 774, 'today': 2044, 'releas': 1603, 'froth': 818, 'smear': 1794, 'drench': 598, 'rapid': 1558, 'static': 1888, 'beef': 162, 'grate': 889, 'cheddar': 319, 'sit': 1773, 'regret': 1596, 'mislead': 1243, 'apart': 80, 'content': 413, 'fingernail': 761, 'turn': 2093, 'upsid': 2123, 'empti': 642, 'ridicul': 1640, 'lumber': 1166, 'home': 967, 'towel': 2062, 'unlik': 2114, 'healthi': 939, 'forese': 791, 'gotten': 881, 'brillant': 239, 'chunk': 339, 'difficult': 543, 'entir': 656, 'problemat': 1517, 'weed': 2182, 'vinegar': 2150, 'havent': 932, 'hamper': 916, 'incas': 1015, 'amazebal': 62, 'word': 2223, 'warn': 2166, 'handl': 919, 'tend': 2003, 'ensur': 653, 'repair': 1614, 'fals': 721, 'economi': 625, 'build': 256, 'huggabl': 985, 'student': 1926, 'sauc': 1683, 'pasta': 1406, 'carboard': 282, 'situat': 1774, 'access': 9, 'kettl': 1073, 'chose': 335, 'mugshot': 1283, 'mistak': 1245, 'scrumptiou': 1705, 'authent': 112, 'percent': 1415, 'skincar': 1776, 'major': 1182, 'deffin': 492, 'opinion': 1361, 'reccomend': 1577, 'slow': 1788, 'tip': 2040, 'late': 1093, 'claim': 342, 'weather': 2181, 'central': 300, 'place': 1451, 'dream': 597, 'summer': 1946, 'spent': 1854, 'lay': 1100, 'beach': 149, 'eyemak': 702, 'tame': 1983, 'iron': 1050, 'tear': 1995, 'penni': 1413, 'scale': 1689, 'sunb': 1948, 'indoor': 1026, 'didnt': 539, 'exxtra': 698, 'thankyou': 2013, 'poorer': 1475, 'wrap': 2233, 'storag': 1904, 'measur': 1214, 'cleaner': 349, 'neutral': 1308, 'micel': 1226, 'feed': 739, 'event': 666, 'absoulut': 7, 'hype': 993, 'clearli': 355, 'lead': 1103, 'leader': 1104, 'inspir': 1038, 'crack': 441, 'paid': 1389, 'multipl': 1285, 'door': 582, 'funnel': 828, 'section': 1714, 'moreov': 1268, 'odor': 1346, 'blend': 196, 'energis': 649, 'complain': 388, 'spill': 1858, 'mr': 1278, 'hinch': 957, 'scour': 1697, 'pad': 1388, 'minki': 1237, 'spong': 1863, 'oven': 1375, 'hob': 962, 'tap': 1987, 'screen': 1700, 'gleam': 859, 'compact': 381, 'ha': 911, 'hit': 959, 'lenor': 1109, 'unstopp': 2119, 'convert': 418, 'dad': 468, 'awhil': 122, 'suitabl': 1945, 'alround': 56, 'blue': 203, 'pigment': 1447, 'mixtur': 1248, 'varieti': 2131, 'matter': 1206, 'met': 1225, 'standard': 1881, 'quarter': 1543, 'truli': 2087, 'heal': 938, 'abras': 3, 'boy': 224, 'therapi': 2015, 'bubbl': 253, 'masculin': 1200, 'volum': 2154, 'garag': 835, 'known': 1086, 'justv': 1069, 'disastr': 557, 'success': 1937, 'deepli': 490, 'genuin': 846, 'neatli': 1301, 'shall': 1735, 'tresmemm': 2078, 'fussi': 831, 'suit': 1944, 'burst': 263, 'cashmer': 292, 'sweater': 1972, 'sainsburi': 1671, 'scrummi': 1704, 'requir': 1621, 'runni': 1665, 'glam': 857, 'somewher': 1828, 'mother': 1276, 'law': 1099, 'wat': 2172, 'discount': 559, 'readi': 1569, 'magic': 1178, 'latest': 1095, 'variat': 2130, 'environment': 658, 'commend': 376, 'detect': 531, 'breath': 232, 'zesti': 2257, 'user': 2125, 'lessen': 1110, 'impact': 1006, 'environ': 657, 'albeit': 42, 'smallest': 1792, 'son': 1829, 'adult': 24, 'belov': 169, 'pet': 1433, 'introduc': 1046, 'sadli': 1668, 'share': 1739, 'melt': 1218, 'favour': 733, 'properli': 1525, 'inferior': 1029, 'microwav': 1229, 'badli': 126, 'lumpi': 1168, 'simplic': 1767, 'fanci': 724, 'maskara': 1201, 'defin': 496, 'perhap': 1420, 'constant': 408, 'hay': 933, 'fever': 747, 'sat': 1681, 'barley': 138, 'unsuit': 2120, 'rel': 1600, 'sturdier': 1928, 'pic': 1441, 'deni': 511, 'fix': 766, 'whenev': 2191, 'incorpor': 1020, 'cleanser': 352, 'eventu': 667, 'margin': 1193, 'appreci': 87, 'persuad': 1431, 'hesit': 950, 'pay': 1410, 'soup': 1840, 'risotto': 1647, 'younger': 2252, 'calm': 271, 'crepey': 449, 'conjunct': 403, 'hyaluron': 991, 'companion': 383, 'loss': 1153, 'firm': 763, 'oz': 1384, 'csmart': 455, 'screw': 1701, 'loos': 1151, 'knife': 1083, 'wise': 2212, 'advoid': 31, 'smart': 1793, 'okay': 1355, 'equal': 659, 'artif': 100, 'upset': 2122, 'english': 651, 'colman': 370, 'roast': 1648, 'invari': 1047, 'nozzl': 1334, 'block': 198, 'extremli': 697, 'frangranc': 806, 'spread': 1869, 'wilkinson': 2205, 'soon': 1830, 'scalp': 1691, 'satisfi': 1682, 'voucher': 2155, 'slimi': 1786, 'unhappi': 2111, 'respons': 1625, 'portug': 1481, 'curl': 461, 'seller': 1718, 'filler': 754, 'elsewher': 638, 'arrog': 98, 'paragon': 1396, 'champ': 309, 'tight': 2032, 'tough': 2061, 'unbeliev': 2102, 'compliment': 392, 'august': 111, 'stream': 1913, 'unfortun': 2110, 'lime': 1124, 'dandruff': 474, 'anti': 72, 'prior': 1513, 'particular': 1399, 'busi': 264, 'mum': 1286, 'admit': 22, 'neglect': 1306, 'empathis': 641, 'trial': 2081, 'opportun': 1362, 'reconnect': 1586, 'cme': 363, 'smother': 1803, 'offens': 1348, 'bedtim': 160, 'verdict': 2143, 'lightweight': 1121, 'tendenc': 2004, 'pull': 1532, 'liber': 1112, 'discreet': 561, 'protector': 1528, 'retain': 1629, 'ezyema': 703, 'regim': 1595, 'thinner': 2022, 'heavili': 943, 'cancel': 276, 'fyi': 833, 'floweri': 777, 'badeda': 125, 'till': 2035, 'stope': 1903, 'blow': 202, 'transform': 2070, 'dehydr': 504, 'caramel': 280, 'bomb': 211, 'gross': 900, 'gonna': 874, 'coca': 365, 'lover': 1159, 'glass': 858, 'oddli': 1345, 'given': 854, 'persev': 1424, 'root': 1652, 'drier': 602, 'grown': 903, 'agre': 40, 'confus': 402, 'maker': 1184, 'risk': 1646, 'underwear': 2109, 'harmoni': 928, 'chicken': 326, 'mushroom': 1289, 'pie': 1445, 'salt': 1674, 'chuck': 338, 'tongu': 2055, 'season': 1710, 'accident': 10, 'swallow': 1968, 'sea': 1706, 'xd': 2240, 'wide': 2202, 'awak': 119, 'flakey': 767, 'smelli': 1796, 'pit': 1449, 'comparison': 385, 'yo': 2249, 'born': 217, 'defient': 495, 'odourless': 1347, 'nightli': 1318, 'clog': 358, 'pore': 1478, 'replenish': 1617, 'daytim': 479, 'stone': 1901, 'munchi': 1287, 'depend': 516, 'talk': 1981, 'visit': 2152, 'certifi': 305, 'freshli': 812, 'launder': 1097, 'cooler': 424, 'wahs': 2157, 'soapi': 1813, 'type': 2095, 'hole': 964, 'sugari': 1942, 'eco': 623, 'parcel': 1397, 'brain': 225, 'op': 1359, 'recomend': 1584, 'aswel': 106, 'articl': 99, 'scar': 1692, 'opposit': 1363, 'visibl': 2151, 'dermatologist': 521, 'game': 834, 'changer': 312, 'singl': 1770, 'bod': 206, 'bat': 143, 'quench': 1544, 'fell': 743, 'cooki': 422, 'dough': 587, 'superdrug': 1955, 'prize': 1514, 'buzz': 268, 'limit': 1126, 'edit': 628, 'stayer': 1890, 'scratchi': 1699, 'rip': 1644, 'mistreat': 1246, 'dock': 573, 'reus': 1631, 'revitalis': 1633, 'gentli': 845, 'impur': 1013, 'rocemmend': 1649, 'almond': 48, 'mouth': 1277, 'fave': 731, 'narrow': 1293, 'accur': 11, 'slim': 1784, 'pourer': 1491, 'dribbl': 601, 'washload': 2169, 'flower': 776, 'mango': 1188, 'brought': 248, 'cornet': 426, 'luvli': 1172, 'man': 1186, 'mayonnais': 1210, 'substanc': 1934, 'squeezi': 1874, 'geniu': 843, 'idea': 996, 'tall': 1982, 'unstabl': 2118, 'fridg': 813, 'brittl': 243, 'shatter': 1742, 'groundhog': 901, 'cri': 450, 'overhaul': 1379, 'besid': 174, 'sachet': 1667, 'phenomen': 1436, 'function': 826, 'longest': 1148, 'diabet': 538, 'carbohydr': 283, 'wall': 2162, 'specif': 1849, 'portion': 1480, 'whitehead': 2200, 'bash': 140, 'inadvert': 1014, 'joint': 1065, 'septic': 1726, 'tank': 1985, 'dispens': 565, 'insert': 1036, 'suffici': 1941, 'competit': 387, 'hav': 931, 'btilliant': 251, 'wild': 2204, 'enthusiast': 654, 'err': 660, 'uncomfort': 2106, 'clash': 343, 'coat': 364, 'sickli': 1756, 'raspberri': 1561, 'core': 425, 'remind': 1611, 'cheapest': 317, 'imagin': 1002, 'insipid': 1037, 'process': 1518, 'bitter': 187, 'rippl': 1645, 'petrolatum': 1434, 'damp': 472, 'rosacea': 1654, 'coz': 440, 'wors': 2227, 'apprehens': 88, 'broken': 245, 'sport': 1865, 'mad': 1177, 'teenag': 1997, 'promis': 1520, 'moisturisor': 1259, 'deoder': 512, 'broke': 244, 'manli': 1190, 'wondr': 2219, 'variou': 2132, 'chamomil': 308, 'weight': 2186, 'thicker': 2019, 'space': 1843, 'nicest': 1314, 'mmmm': 1250, 'bo': 204, 'beater': 155, 'plainli': 1453, 'bold': 210, 'grudg': 904, 'dirti': 554, 'necess': 1302, 'weekli': 2185, 'groceri': 899, 'budget': 255, 'cake': 270, 'exot': 685, 'veget': 2138, 'ariel': 93, 'global': 862, 'consum': 410, 'giant': 848, 'expert': 690, 'dodgi': 575, 'imit': 1003, 'sub': 1930, 'guarante': 906, 'rubberi': 1661, 'gossam': 878, 'case': 291, 'brightli': 237, 'funki': 827, 'purpl': 1538, 'grey': 898, 'swirl': 1975, 'gu': 905, 'outsid': 1373, 'grade': 882, 'mysteri': 1291, 'sphinx': 1856, 'giza': 855, 'bermuda': 173, 'triangl': 2082, 'voynich': 2156, 'manuscript': 1192, 'limescal': 1125, 'unclog': 2105, 'plump': 1467, 'ill': 1000, 'pun': 1534, 'intend': 1043, 'forth': 799, 'advic': 29, 'minimum': 1236, 'annoy': 69, 'asid': 103, 'plug': 1465, 'potenti': 1488, 'increas': 1021, 'pyramid': 1540, 'present': 1502, 'figur': 753, 'medicin': 1215, 'cabinet': 269, 'salti': 1675, 'yeast': 2245, 'honest': 969, 'fluctuat': 778, 'particulr': 1401, 'watch': 2173, 'smellllllll': 1797, 'sauna': 1684, 'outstand': 1374, 'turkey': 2092, 'shake': 1733, 'graviti': 891, 'vastli': 2134, 'sharp': 1741, 'begin': 164, 'assum': 105, 'grow': 902, 'correct': 428, 'boost': 215, 'sooo': 1832, 'complaint': 389, 'concept': 395, 'recal': 1576, 'tetra': 2010, 'public': 1530, 'innov': 1035, 'refil': 1591, 'counter': 433, 'print': 1512, 'magnif': 1179, 'anim': 66, 'headquart': 937, 'offic': 1350, 'countri': 434, 'torn': 2058, 'extrat': 695, 'secondli': 1712, 'spare': 1846, 'rib': 1636, 'persdper': 1423, 'reorder': 1613, 'somewhat': 1827, 'feminin': 746, 'perspir': 1430, 'danc': 473, 'bay': 148, 'waxi': 2177, 'shark': 1740, 'ben': 170, 'jerri': 1063, 'fragrant': 805, 'bargin': 137, 'iritatw': 1049, 'tbh': 1993, 'loo': 1149, 'coverag': 438, 'brighten': 235, 'glowi': 866, 'perfectli': 1417, 'consciou': 404, 'paper': 1395, 'temperament': 2000, 'lazi': 1102, 'girl': 851, 'solut': 1822, 'repeat': 1615, 'versatil': 2146, 'heel': 944, 'econom': 624, 'chapstick': 313, 'jot': 1066, 'bob': 205, 'uncl': 2104, 'awesom': 121, 'doeant': 576, 'soggi': 1818, 'mess': 1223, 'dish': 564, 'lux': 1173, 'plan': 1454, 'kcal': 1070, 'diet': 541, 'biodegrad': 182, 'forev': 792, 'blackhead': 190, 'zone': 2258, 'fed': 738, 'wateri': 2175, 'gold': 872, 'spring': 1870, 'cardigan': 287, 'thirti': 2023, 'tie': 2031, 'bikini': 179, 'dedic': 488, 'ylang': 2248, 'town': 2063, 'aaaaamaz': 1, 'tattoooo': 1992, 'previous': 1508, 'admir': 21, 'blast': 193, 'whiff': 2194, 'planet': 1455, 'pollut': 1473, 'funni': 829, 'escap': 662, 'lift': 1117, 'relief': 1606, 'effortlessli': 632, 'effici': 630, 'pre': 1497, 'honey': 971, 'suckl': 1938, 'perman': 1422, 'cherri': 324, 'blossom': 200, 'pea': 1411, 'sandal': 1678, 'wood': 2221, 'cup': 458, 'lunch': 1169, 'king': 1079, 'fcuk': 735, 'opt': 1364, 'starter': 1885, 'newborn': 1310, 'hunger': 986, 'challeng': 307, 'endur': 647, 'helmann': 948, 'bone': 213, 'tendon': 2005, 'appeal': 81, 'advantag': 26, 'citru': 341, 'muscl': 1288, 'bump': 258, 'ador': 23, 'persist': 1428, 'whitout': 2201, 'sin': 1768, 'woken': 2216, 'reiment': 1599, 'smudg': 1804, 'novelti': 1333, 'quantiti': 1542, 'deodour': 514, 'swear': 1970, 'arkward': 94, 'sent': 1724, 'toiletri': 2047, 'linnen': 1132, 'teeth': 1998, 'ceram': 301, 'cent': 299, 'marshmallowey': 1198, 'phish': 1437, 'spain': 1845, 'thiught': 2024, 'cojld': 367, 'apar': 79, 'stripey': 1920, 'orang': 1366, 'stink': 1898, 'moral': 1266, 'stori': 1906, 'format': 796, 'shave': 1743, 'dress': 599, 'fewer': 748, 'worn': 2225, 'meet': 1217, 'amazingli': 63, 'flavor': 771, 'powderi': 1493, 'exempt': 682, 'annoyiji': 70, 'serum': 1727, 'contribut': 415, 'deco': 487, 'eldest': 636, 'forgotten': 794, 'chew': 325, 'rope': 1653, 'school': 1695, 'lie': 1115, 'nother': 1329, 'automat': 114, 'drugstor': 608, 'brainer': 226, 'partnership': 1403, 'encourag': 643, 'spici': 1857, 'fear': 736, 'spilt': 1860, 'alright': 55, 'gotta': 880, 'cetearyl': 306, 'mirror': 1241, 'nightmar': 1319, 'ordinari': 1368, 'thicken': 2018, 'gravi': 890, 'pop': 1476, 'press': 1504, 'scali': 1690, 'quid': 1549, 'tempt': 2002, 'spf': 1855, 'critic': 454, 'uva': 2127, 'convinc': 419, 'refer': 1590, 'verifi': 2144, 'certain': 303, 'bondi': 212, 'sand': 1677, 'fabul': 706, 'hike': 956, 'itsel': 1058, 'frizz': 816, 'lank': 1089, 'bounc': 221, 'unus': 2121, 'cooker': 421, 'invigor': 1048, 'newer': 1311, 'rd': 1564, 'cerav': 302, 'norm': 1324, 'begun': 165, 'calmer': 272, 'sciencey': 1696, 'micro': 1228, 'granul': 888, 'stainless': 1879, 'steel': 1891, 'liquidi': 1135, 'velvet': 2141, 'hopingthat': 974, 'fair': 715, 'btw': 252, 'instruct': 1042, 'typic': 2096, 'dy': 614, 'tong': 2054, 'question': 1545, 'clip': 357, 'definatli': 497, 'surprisingli': 1966, 'shock': 1752, 'litr': 1138, 'imo': 1005, 'salad': 1672, 'pear': 1412, 'youth': 2253, 'anitipersperi': 67, 'accustom': 12, 'richer': 1638, 'carb': 281, 'duti': 613, 'sock': 1814, 'fraction': 803, 'loveliest': 1158, 'drum': 609, 'modest': 1253, 'inch': 1016, 'somebodi': 1823, 'brazil': 228, 'expat': 686, 'bearabl': 153, 'vfm': 2148, 'head': 935, 'winner': 2209, 'batgain': 145, 'oreal': 1369, 'resist': 1623, 'mention': 1222, 'benefici': 171, 'list': 1136, 'chanc': 310, 'commit': 379, 'alobg': 50, 'matur': 1207, 'hiya': 961, 'stress': 1916, 'pricey': 1510, 'reliev': 1607, 'tropic': 2085, 'lili': 1123, 'mud': 1281, 'spag': 1844, 'bol': 209, 'attent': 109, 'lingeri': 1130, 'cotton': 431, 'fiber': 749, 'gigant': 850, 'lash': 1092, 'eyebrow': 700, 'sunshin': 1951, 'clingi': 356, 'greazi': 894, 'desir': 527, 'blotch': 201, 'attach': 107, 'ignor': 999, 'fortun': 800, 'fulfil': 823, 'criteria': 453, 'wilt': 2206, 'yard': 2242, 'radiu': 1553, 'alarm': 41, 'whisk': 2198, 'devin': 536, 'signatur': 1758, 'haha': 912, 'saver': 1686, 'pamper': 1393, 'heheh': 945, 'hunk': 987, 'unscrew': 2117, 'glove': 864, 'odd': 1344, 'horrif': 976, 'headach': 936, 'desper': 528, 'afraid': 34, 'disturb': 570, 'properti': 1526, 'fluff': 779, 'dryness': 611, 'seal': 1707, 'yogurt': 2250, 'alpro': 53, 'blop': 199, 'postag': 1485, 'doctor': 574, 'soooo': 1833, 'walk': 2161, 'pervas': 1432, 'fruiti': 821, 'strike': 1918, 'slurp': 1789, 'reckon': 1582, 'nearer': 1299, 'path': 1409, 'decidedli': 486, 'newsweek': 1312, 'fluffi': 780, 'smoother': 1800, 'hive': 960, 'aggrav': 38, 'chsnge': 337, 'remark': 1609, 'specifi': 1850, 'conclus': 397, 'lure': 1170, 'entic': 655, 'squint': 1875, 'reviv': 1634, 'deffinalti': 493, 'fond': 786, 'consider': 406, 'dinner': 549, 'parti': 1398, 'everybodi': 669, 'balm': 132, 'finger': 760, 'color': 371, 'petroleum': 1435, 'shadow': 1732, 'appropri': 90, 'tidi': 2030, 'eyelin': 701, 'error': 661, 'spars': 1847, 'bud': 254, 'homemad': 968, 'roll': 1650, 'shaken': 1734, 'disgust': 563, 'contact': 411, 'suddenli': 1939, 'alth': 58, 'insread': 1039, 'toxic': 2064, 'dud': 612, 'cautiou': 295, 'monthli': 1265, 'beed': 161, 'scrib': 1702, 'hurt': 989, 'glitter': 861, 'ankl': 68, 'drawer': 595, 'moan': 1251, 'significantli': 1760, 'strang': 1910, 'recognis': 1583, 'cedarwood': 296, 'bother': 218, 'dozen': 590, 'blindingli': 197, 'stronger': 1922, 'veg': 2136, 'cube': 456, 'batch': 144, 'recipebut': 1581, 'mile': 1231, 'hr': 983, 'sedentari': 1715, 'worst': 2228, 'verri': 2145, 'hi': 951, 'uk': 2097, 'anywher': 78, 'massag': 1202, 'keen': 1071, 'ban': 133, 'sneaki': 1807, 'woke': 2215, 'tacki': 1979, 'surviv': 1967, 'brexit': 233, 'defintley': 500, 'die': 540, 'em': 640, 'moisteris': 1256, 'lost': 1154, 'streaki': 1912, 'capful': 278, 'common': 380, 'loyalti': 1163, 'mostur': 1273, 'definetli': 498, 'mostureris': 1274, 'tissu': 2042, 'pain': 1390, 'pleasur': 1462, 'vera': 2142, 'greenhous': 896, 'gase': 838, 'ultim': 2098, 'fight': 752, 'tire': 2041, 'drawn': 596, 'dosag': 583, 'statement': 1887, 'worthwhil': 2230, 'sorbet': 1835, 'focus': 784, 'exact': 675, 'costco': 430, 'curiou': 460, 'baffl': 127, 'elviv': 639, 'realiz': 1572, 'hairdress': 914, 'appoint': 86, 'defenc': 491, 'purifi': 1537, 'pralin': 1496, 'solero': 1821}\n"
     ]
    }
   ],
   "source": [
    "TFIDF_vectorizer  = TfidfVectorizer(stop_words='english')\n",
    "\n",
    "TFIDF_vectorizer.fit(X_train)\n",
    "print('\\nVocabulary: \\n', TFIDF_vectorizer.vocabulary_)\n",
    "\n",
    "train_tf = TFIDF_vectorizer.fit_transform(X_train)\n",
    "test_tf = TFIDF_vectorizer.transform(X_test)"
   ]
  },
  {
   "cell_type": "code",
   "execution_count": 75,
   "metadata": {},
   "outputs": [
    {
     "name": "stdout",
     "output_type": "stream",
     "text": [
      "Accuracy: 81.63265306122449\n",
      "Precision: 83.125\n",
      "Recall: 78.69822485207101\n",
      "F1 Score: 80.85106382978724\n",
      "Confusion Matrix:\n"
     ]
    }
   ],
   "source": [
    "# Import necessary librariesfrom sklearn.model_selection import train_test_split\n",
    "\"\"\"\"from sklearn.tree import DecisionTreeClassifier\n",
    "from sklearn.feature_extraction.text import TfidfVectorizer\n",
    "from sklearn.metrics import accuracy_score, precision_score, recall_score, f1_score, confusion_matrix\n",
    "\n",
    "# Assuming you have a DataFrame 'df' with features and a target variable 'fake_review'\n",
    "# Replace 'review_text' and 'fake_review' with your actual text column and target column names\n",
    "\n",
    "# Extract features and target variable\n",
    "X = df['review_text']  # Replace with your text column\n",
    "y = df['verified_purchase']\n",
    "\n",
    "# Split the data into training and testing sets\n",
    "X_train, X_test, y_train, y_test = train_test_split(X, y, test_size=0.2, random_state=42)\n",
    "\n",
    "# Create TF-IDF vectorizer\n",
    "tfidf_vectorizer = TfidfVectorizer(max_features=5000, stop_words='english')\n",
    "\n",
    "# Fit and transform the training data\n",
    "X_train_tfidf = tfidf_vectorizer.fit_transform(X_train)\n",
    "\n",
    "# Transform the test data using the same vectorizer\n",
    "X_test_tfidf = tfidf_vectorizer.transform(X_test)\"\"\"\n",
    "\n",
    "# Create a Decision Tree model\n",
    "decision_tree_model = DecisionTreeClassifier(random_state=42)\n",
    "\n",
    "# Train the model\n",
    "decision_tree_model.fit(train_tf, y_train)\n",
    "\n",
    "# Make predictions on the test set\n",
    "predictions = decision_tree_model.predict(test_tf)\n",
    "\n",
    "# Evaluate the model\n",
    "accuracy = accuracy_score(y_test, prediction)\n",
    "precision = precision_score(y_test, prediction)\n",
    "recall = recall_score(y_test, prediction)\n",
    "f1 = f1_score(y_test, prediction)\n",
    "\n",
    "#conf_matrix = confusion_matrix(y_test, predictions)\n",
    "d1_a2= accuracy*100\n",
    "d1_p2=precision*100\n",
    "d1_r2=recall*100\n",
    "d1_f2=f1*100\n",
    "# Print the evaluation metrics\n",
    "print(f\"Accuracy: {accuracy*100}\")\n",
    "print(f\"Precision: {precision*100}\")\n",
    "print(f\"Recall: {recall*100}\")\n",
    "print(f\"F1 Score: {f1*100}\")\n",
    "print(\"Confusion Matrix:\")\n",
    "#print(conf_matrix)\n",
    "\n"
   ]
  },
  {
   "cell_type": "code",
   "execution_count": 76,
   "metadata": {},
   "outputs": [
    {
     "data": {
      "text/plain": [
       "<sklearn.metrics._plot.confusion_matrix.ConfusionMatrixDisplay at 0x1e3af035e50>"
      ]
     },
     "execution_count": 76,
     "metadata": {},
     "output_type": "execute_result"
    },
    {
     "data": {
      "image/png": "[encoded data removed]",
      "text/plain": [
       "<Figure size 432x288 with 2 Axes>"
      ]
     },
     "metadata": {
      "needs_background": "light"
     },
     "output_type": "display_data"
    }
   ],
   "source": [
    "cm1 =  confusion_matrix(y_test, prediction, labels=decision_tree_model.classes_)\n",
    "display = ConfusionMatrixDisplay(confusion_matrix=cm1,\n",
    "                              display_labels=decision_tree_model.classes_) \n",
    "display.plot() "
   ]
  },
  {
   "cell_type": "markdown",
   "metadata": {},
   "source": [
    "### Multinomial Naive Bayes model"
   ]
  },
  {
   "cell_type": "code",
   "execution_count": 58,
   "metadata": {},
   "outputs": [],
   "source": [
    "#IMPLEMENTING AND RUNNING MNB MODEL - TFIDF\n",
    "mnb2 = MultinomialNB()\n",
    "mnb2.fit(train_tf, y_train)\n",
    "prediction = mnb2.predict(test_tf)"
   ]
  },
  {
   "cell_type": "code",
   "execution_count": 59,
   "metadata": {},
   "outputs": [],
   "source": [
    "#EVALUATION\n",
    "mnb_a2 = accuracy_score(y_test, prediction)*100\n",
    "mnb_p2 = precision_score(y_test, prediction)* 100\n",
    "mnb_r2 = recall_score(y_test, prediction)*100\n",
    "mnb_f12 = f1_score(y_test, prediction)*100"
   ]
  },
  {
   "cell_type": "code",
   "execution_count": 60,
   "metadata": {},
   "outputs": [
    {
     "data": {
      "text/plain": [
       "<sklearn.metrics._plot.confusion_matrix.ConfusionMatrixDisplay at 0x1e3aee4c610>"
      ]
     },
     "execution_count": 60,
     "metadata": {},
     "output_type": "execute_result"
    },
    {
     "data": {
      "image/png": "[encoded data removed]",
      "text/plain": [
       "<Figure size 432x288 with 2 Axes>"
      ]
     },
     "metadata": {
      "needs_background": "light"
     },
     "output_type": "display_data"
    }
   ],
   "source": [
    "#CONFUSION MATRIX\n",
    "cm =  confusion_matrix(y_test, prediction, labels=mnb2.classes_)\n",
    "display = ConfusionMatrixDisplay(confusion_matrix=cm,\n",
    "                              display_labels=mnb2.classes_) \n",
    "display.plot() "
   ]
  },
  {
   "cell_type": "markdown",
   "metadata": {},
   "source": [
    "### Support Vector Machine model"
   ]
  },
  {
   "cell_type": "code",
   "execution_count": 61,
   "metadata": {},
   "outputs": [],
   "source": [
    "#IMPLEMENTING AND RUNNING SVM MODEL - TFIDF \n",
    "svm2 = SVC(kernel='linear')\n",
    "svm2.fit(train_tf, y_train)\n",
    "prediction = svm2.predict(test_tf)"
   ]
  },
  {
   "cell_type": "code",
   "execution_count": 62,
   "metadata": {},
   "outputs": [],
   "source": [
    "#EVALUATION\n",
    "svm_a2 = accuracy_score(y_test, prediction)*100\n",
    "svm_p2 = precision_score(y_test, prediction)* 100\n",
    "svm_r2 = recall_score(y_test, prediction)*100\n",
    "svm_f12 = f1_score(y_test, prediction)*100"
   ]
  },
  {
   "cell_type": "code",
   "execution_count": 63,
   "metadata": {},
   "outputs": [
    {
     "data": {
      "text/plain": [
       "<sklearn.metrics._plot.confusion_matrix.ConfusionMatrixDisplay at 0x1e3aeee5e50>"
      ]
     },
     "execution_count": 63,
     "metadata": {},
     "output_type": "execute_result"
    },
    {
     "data": {
      "image/png": "[encoded data removed]",
      "text/plain": [
       "<Figure size 432x288 with 2 Axes>"
      ]
     },
     "metadata": {
      "needs_background": "light"
     },
     "output_type": "display_data"
    }
   ],
   "source": [
    "#CONFUSION MATRIX\n",
    "cm =  confusion_matrix(y_test, prediction, labels=svm2.classes_)\n",
    "display = ConfusionMatrixDisplay(confusion_matrix=cm,\n",
    "                              display_labels=svm2.classes_) \n",
    "display.plot() "
   ]
  },
  {
   "cell_type": "markdown",
   "metadata": {},
   "source": [
    "### Logistic Regression model"
   ]
  },
  {
   "cell_type": "code",
   "execution_count": 64,
   "metadata": {},
   "outputs": [],
   "source": [
    "#IMPLEMENTATION AND RUNNING LR MODEL - TFIDF \n",
    "lr2 = LogisticRegression()\n",
    "lr2.fit(train_tf, y_train)\n",
    "prediction = lr2.predict(test_tf)"
   ]
  },
  {
   "cell_type": "code",
   "execution_count": 65,
   "metadata": {},
   "outputs": [],
   "source": [
    "#EVALUATION\n",
    "lr_a2 = accuracy_score(y_test, prediction)*100\n",
    "lr_p2 = precision_score(y_test, prediction)* 100\n",
    "lr_r2 = recall_score(y_test, prediction)*100\n",
    "lr_f12 = f1_score(y_test, prediction)*100"
   ]
  },
  {
   "cell_type": "code",
   "execution_count": 66,
   "metadata": {},
   "outputs": [
    {
     "data": {
      "text/plain": [
       "<sklearn.metrics._plot.confusion_matrix.ConfusionMatrixDisplay at 0x1e3aee5abb0>"
      ]
     },
     "execution_count": 66,
     "metadata": {},
     "output_type": "execute_result"
    },
    {
     "data": {
      "image/png": "[encoded data removed]",
      "text/plain": [
       "<Figure size 432x288 with 2 Axes>"
      ]
     },
     "metadata": {
      "needs_background": "light"
     },
     "output_type": "display_data"
    }
   ],
   "source": [
    "#CONFUSION MATRIX\n",
    "cm =  confusion_matrix(y_test, prediction, labels=lr2.classes_)\n",
    "display = ConfusionMatrixDisplay(confusion_matrix=cm,\n",
    "                              display_labels=lr2.classes_) \n",
    "display.plot() "
   ]
  },
  {
   "cell_type": "markdown",
   "metadata": {},
   "source": [
    "### COMPARING ACCURACY"
   ]
  },
  {
   "cell_type": "code",
   "execution_count": 78,
   "metadata": {},
   "outputs": [
    {
     "data": {
      "text/html": [
       "<div>\n",
       "<style scoped>\n",
       "    .dataframe tbody tr th:only-of-type {\n",
       "        vertical-align: middle;\n",
       "    }\n",
       "\n",
       "    .dataframe tbody tr th {\n",
       "        vertical-align: top;\n",
       "    }\n",
       "\n",
       "    .dataframe thead th {\n",
       "        text-align: right;\n",
       "    }\n",
       "</style>\n",
       "<table border=\"1\" class=\"dataframe\">\n",
       "  <thead>\n",
       "    <tr style=\"text-align: right;\">\n",
       "      <th></th>\n",
       "      <th>MNB</th>\n",
       "      <th>SVM</th>\n",
       "      <th>LR</th>\n",
       "      <th>Decisiontree</th>\n",
       "    </tr>\n",
       "  </thead>\n",
       "  <tbody>\n",
       "    <tr>\n",
       "      <th>Count Vectorizer</th>\n",
       "      <td>80</td>\n",
       "      <td>84</td>\n",
       "      <td>85</td>\n",
       "      <td>82</td>\n",
       "    </tr>\n",
       "    <tr>\n",
       "      <th>Tfidf Vectorizer</th>\n",
       "      <td>78</td>\n",
       "      <td>82</td>\n",
       "      <td>82</td>\n",
       "      <td>82</td>\n",
       "    </tr>\n",
       "  </tbody>\n",
       "</table>\n",
       "</div>"
      ],
      "text/plain": [
       "                  MNB  SVM  LR  Decisiontree\n",
       "Count Vectorizer   80   84  85            82\n",
       "Tfidf Vectorizer   78   82  82            82"
      ]
     },
     "execution_count": 78,
     "metadata": {},
     "output_type": "execute_result"
    }
   ],
   "source": [
    "model_accuracy={'MNB': [round(mnb_a1), round(mnb_a2)],\n",
    "                'SVM': [round(svm_a1), round(svm_a2)],\n",
    "                'LR': [round(lr_a1), round(lr_a2)],\n",
    "                 'Decisiontree':[round(d1_a1),round(d1_a2)]\n",
    "               }\n",
    "ma = pd.DataFrame(model_accuracy, columns = ['MNB','SVM','LR','Decisiontree'], index=['Count Vectorizer','Tfidf Vectorizer'])\n",
    "ma"
   ]
  },
  {
   "cell_type": "markdown",
   "metadata": {},
   "source": [
    "### COMPARING PRECISION"
   ]
  },
  {
   "cell_type": "code",
   "execution_count": 88,
   "metadata": {},
   "outputs": [
    {
     "data": {
      "text/html": [
       "<div>\n",
       "<style scoped>\n",
       "    .dataframe tbody tr th:only-of-type {\n",
       "        vertical-align: middle;\n",
       "    }\n",
       "\n",
       "    .dataframe tbody tr th {\n",
       "        vertical-align: top;\n",
       "    }\n",
       "\n",
       "    .dataframe thead th {\n",
       "        text-align: right;\n",
       "    }\n",
       "</style>\n",
       "<table border=\"1\" class=\"dataframe\">\n",
       "  <thead>\n",
       "    <tr style=\"text-align: right;\">\n",
       "      <th></th>\n",
       "      <th>MNB</th>\n",
       "      <th>SVM</th>\n",
       "      <th>LR</th>\n",
       "      <th>Decisiontree</th>\n",
       "    </tr>\n",
       "  </thead>\n",
       "  <tbody>\n",
       "    <tr>\n",
       "      <th>Count Vectorizer</th>\n",
       "      <td>81</td>\n",
       "      <td>79</td>\n",
       "      <td>80</td>\n",
       "      <td>83</td>\n",
       "    </tr>\n",
       "    <tr>\n",
       "      <th>Tfidf Vectorizer</th>\n",
       "      <td>84</td>\n",
       "      <td>83</td>\n",
       "      <td>83</td>\n",
       "      <td>83</td>\n",
       "    </tr>\n",
       "  </tbody>\n",
       "</table>\n",
       "</div>"
      ],
      "text/plain": [
       "                  MNB  SVM  LR  Decisiontree\n",
       "Count Vectorizer   81   79  80            83\n",
       "Tfidf Vectorizer   84   83  83            83"
      ]
     },
     "execution_count": 88,
     "metadata": {},
     "output_type": "execute_result"
    }
   ],
   "source": [
    "model_precision={'MNB': [round(mnb_p1), round(mnb_p2)],\n",
    "                'SVM': [round(svm_p1), round(svm_p2)],\n",
    "                'LR': [round(lr_p1), round(lr_p2)],\n",
    "                       'Decisiontree':[round(d1_p1), round(d1_p2)]\n",
    "               }\n",
    "mp = pd.DataFrame(model_precision, columns = ['MNB','SVM','LR','Decisiontree'], index=['Count Vectorizer','Tfidf Vectorizer'])\n",
    "mp"
   ]
  },
  {
   "cell_type": "markdown",
   "metadata": {},
   "source": [
    "### COMPARING RECALL"
   ]
  },
  {
   "cell_type": "code",
   "execution_count": 84,
   "metadata": {},
   "outputs": [
    {
     "data": {
      "text/html": [
       "<div>\n",
       "<style scoped>\n",
       "    .dataframe tbody tr th:only-of-type {\n",
       "        vertical-align: middle;\n",
       "    }\n",
       "\n",
       "    .dataframe tbody tr th {\n",
       "        vertical-align: top;\n",
       "    }\n",
       "\n",
       "    .dataframe thead th {\n",
       "        text-align: right;\n",
       "    }\n",
       "</style>\n",
       "<table border=\"1\" class=\"dataframe\">\n",
       "  <thead>\n",
       "    <tr style=\"text-align: right;\">\n",
       "      <th></th>\n",
       "      <th>MNB</th>\n",
       "      <th>SVM</th>\n",
       "      <th>LR</th>\n",
       "      <th>Decisiontree</th>\n",
       "    </tr>\n",
       "  </thead>\n",
       "  <tbody>\n",
       "    <tr>\n",
       "      <th>Count Vectorizer</th>\n",
       "      <td>77</td>\n",
       "      <td>91</td>\n",
       "      <td>92</td>\n",
       "      <td>79</td>\n",
       "    </tr>\n",
       "    <tr>\n",
       "      <th>Tfidf Vectorizer</th>\n",
       "      <td>69</td>\n",
       "      <td>81</td>\n",
       "      <td>79</td>\n",
       "      <td>79</td>\n",
       "    </tr>\n",
       "  </tbody>\n",
       "</table>\n",
       "</div>"
      ],
      "text/plain": [
       "                  MNB  SVM  LR  Decisiontree\n",
       "Count Vectorizer   77   91  92            79\n",
       "Tfidf Vectorizer   69   81  79            79"
      ]
     },
     "execution_count": 84,
     "metadata": {},
     "output_type": "execute_result"
    }
   ],
   "source": [
    "model_recall={'MNB': [round(mnb_r1), round(mnb_r2)],\n",
    "                'SVM': [round(svm_r1), round(svm_r2)],\n",
    "                'LR': [round(lr_r1), round(lr_r2)],\n",
    "                       'Decisiontree':[round(d1_r1), round(d1_r2)]\n",
    "               }\n",
    "mr = pd.DataFrame(model_recall, columns = ['MNB','SVM','LR','Decisiontree'], index=['Count Vectorizer','Tfidf Vectorizer'])\n",
    "mr"
   ]
  },
  {
   "cell_type": "markdown",
   "metadata": {},
   "source": [
    "### COMPARING F1 SCORE"
   ]
  },
  {
   "cell_type": "code",
   "execution_count": 87,
   "metadata": {},
   "outputs": [
    {
     "data": {
      "text/html": [
       "<div>\n",
       "<style scoped>\n",
       "    .dataframe tbody tr th:only-of-type {\n",
       "        vertical-align: middle;\n",
       "    }\n",
       "\n",
       "    .dataframe tbody tr th {\n",
       "        vertical-align: top;\n",
       "    }\n",
       "\n",
       "    .dataframe thead th {\n",
       "        text-align: right;\n",
       "    }\n",
       "</style>\n",
       "<table border=\"1\" class=\"dataframe\">\n",
       "  <thead>\n",
       "    <tr style=\"text-align: right;\">\n",
       "      <th></th>\n",
       "      <th>MNB</th>\n",
       "      <th>SVM</th>\n",
       "      <th>LR</th>\n",
       "      <th>Decisiontree</th>\n",
       "    </tr>\n",
       "  </thead>\n",
       "  <tbody>\n",
       "    <tr>\n",
       "      <th>Count Vectorizer</th>\n",
       "      <td>79</td>\n",
       "      <td>84</td>\n",
       "      <td>85</td>\n",
       "      <td>81</td>\n",
       "    </tr>\n",
       "    <tr>\n",
       "      <th>Tfidf Vectorizer</th>\n",
       "      <td>76</td>\n",
       "      <td>82</td>\n",
       "      <td>81</td>\n",
       "      <td>81</td>\n",
       "    </tr>\n",
       "  </tbody>\n",
       "</table>\n",
       "</div>"
      ],
      "text/plain": [
       "                  MNB  SVM  LR  Decisiontree\n",
       "Count Vectorizer   79   84  85            81\n",
       "Tfidf Vectorizer   76   82  81            81"
      ]
     },
     "execution_count": 87,
     "metadata": {},
     "output_type": "execute_result"
    }
   ],
   "source": [
    "model_f1={'MNB': [round(mnb_f11), round(mnb_f12)],\n",
    "                'SVM': [round(svm_f11), round(svm_f12)],\n",
    "                'LR': [round(lr_f11), round(lr_f12)],\n",
    "                       'Decisiontree':[round(d1_f11),round(d1_f2)]\n",
    "               }\n",
    "mf1 = pd.DataFrame(model_f1, columns = ['MNB','SVM','LR','Decisiontree'], index=['Count Vectorizer','Tfidf Vectorizer'])\n",
    "mf1"
   ]
  },
  {
   "cell_type": "code",
   "execution_count": 36,
   "metadata": {},
   "outputs": [],
   "source": [
    "import pickle\n",
    "# Assuming lr1 is your model and count_vectorizer is your vectorizer\n",
    "pickle.dump(lr1, open(r\"C:\\Users\\YATI\\Downloads\\best_model.pkl\", 'wb'))\n",
    "pickle.dump(count_vectorizer, open(r\"C:\\Users\\YATI\\Downloads\\count_vectorizer.pkl\", 'wb'))\n"
   ]
  },
  {
   "cell_type": "code",
   "execution_count": 37,
   "metadata": {},
   "outputs": [
    {
     "name": "stdout",
     "output_type": "stream",
     "text": [
      "Model loaded successfully: LogisticRegression()\n",
      "Vectorizer loaded successfully: CountVectorizer(stop_words='english')\n"
     ]
    }
   ],
   "source": [
    "import pickle\n",
    "\n",
    "# Load the model\n",
    "with open(\"best_model.pkl\", 'rb') as model_file:\n",
    "    loaded_model = pickle.load(model_file)\n",
    "\n",
    "# Load the vectorizer\n",
    "with open(\"count_vectorizer.pkl\", 'rb') as vectorizer_file:\n",
    "    loaded_vectorizer = pickle.load(vectorizer_file)\n",
    "\n",
    "# Print or inspect the loaded objects\n",
    "print(\"Model loaded successfully:\", loaded_model)\n",
    "print(\"Vectorizer loaded successfully:\", loaded_vectorizer)\n"
   ]
  },
  {
   "cell_type": "code",
   "execution_count": null,
   "metadata": {},
   "outputs": [],
   "source": []
  }
 ],
 "metadata": {
  "kernelspec": {
   "display_name": "Python 3 (ipykernel)",
   "language": "python",
   "name": "python3"
  },
  "language_info": {
   "codemirror_mode": {
    "name": "ipython",
    "version": 3
   },
   "file_extension": ".py",
   "mimetype": "text/x-python",
   "name": "python",
   "nbconvert_exporter": "python",
   "pygments_lexer": "ipython3",
   "version": "3.11.5"
  }
 },
 "nbformat": 4,
 "nbformat_minor": 4
}
